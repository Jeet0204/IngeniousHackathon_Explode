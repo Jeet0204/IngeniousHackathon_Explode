{
 "cells": [
  {
   "cell_type": "code",
   "execution_count": 1,
   "metadata": {
    "collapsed": true
   },
   "outputs": [],
   "source": [
    "import pandas as pd\n",
    "btc = pd.read_csv('live_bitcoin.csv')\n",
    "btc.columns = [\"Price\",\"Time\"]\n",
    "sent = pd.read_csv('live_tweet.csv')\n",
    "sent.columns = [\"Sentiment\",\"Time\"]\n",
    "merged = sent.merge(btc, left_index=False, right_index=False, how=\"inner\")\n",
    "merged.to_csv('prediction.csv')"
   ]
  },
  {
   "cell_type": "code",
   "execution_count": null,
   "metadata": {
    "collapsed": true
   },
   "outputs": [],
   "source": []
  }
 ],
 "metadata": {
  "kernelspec": {
   "display_name": "Python 3",
   "language": "python",
   "name": "python3"
  },
  "language_info": {
   "codemirror_mode": {
    "name": "ipython",
    "version": 3
   },
   "file_extension": ".py",
   "mimetype": "text/x-python",
   "name": "python",
   "nbconvert_exporter": "python",
   "pygments_lexer": "ipython3",
   "version": "3.6.3"
  }
 },
 "nbformat": 4,
 "nbformat_minor": 2
}
