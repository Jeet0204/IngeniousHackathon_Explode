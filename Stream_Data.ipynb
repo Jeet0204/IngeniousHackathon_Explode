{
 "cells": [
  {
   "cell_type": "code",
   "execution_count": null,
   "metadata": {},
   "outputs": [],
   "source": [
    "\n",
    "# coding: utf-8\n",
    "\n",
    "# In[1]:\n",
    "\n",
    "\n",
    "import requests\n",
    "import time\n",
    "import datetime\n",
    "\n",
    "f_name = input(\"dataset name:\")\n",
    "f = open(f_name,\"a\")\n",
    "keys = [\"price_usd\",\"24h_volume_usd\",\"market_cap_usd\",\"available_supply\",\"total_supply\",\"percent_change_1h\",\"percent_change_24h\",\"percent_change_7d\"]\n",
    "vals = [0]*len(keys)\n",
    "\n",
    "while True:\n",
    "    data = requests.get(\"https://api.coinmarketcap.com/v1/ticker/bitcoin/\").json()[0]\n",
    "    #bstamp = requests.get(\"https://www.bitstamp.net/api/v2/ticker/btcusd/\").json() \n",
    "    bkc = requests.get(\"https://blockchain.info/ticker\").json()\n",
    "    for d in data.keys():\n",
    "        if d in keys:\n",
    "            indx = keys.index(d)\n",
    "            vals[indx] = data[d]\n",
    "    for val in vals:\n",
    "        f.write(val+\",\")\n",
    "      \n",
    "    #f.write(\"{},{},\".format(bstamp[\"volume\"],bstamp[\"vwap\"]))\n",
    "    f.write(\"{},{},{}\".format(bkc[\"USD\"][\"sell\"],bkc[\"USD\"][\"buy\"],bkc[\"USD\"][\"15m\"]))\n",
    "    f.write(\",\"+datetime.datetime.now().strftime(\"%y-%m-%d-%H-%M\"))\n",
    "    f.write(\"\\n\")\n",
    "    f.flush()\n",
    "    time.sleep(60)\n",
    "\n"
   ]
  }
 ],
 "metadata": {
  "kernelspec": {
   "display_name": "Python 3",
   "language": "python",
   "name": "python3"
  },
  "language_info": {
   "codemirror_mode": {
    "name": "ipython",
    "version": 3
   },
   "file_extension": ".py",
   "mimetype": "text/x-python",
   "name": "python",
   "nbconvert_exporter": "python",
   "pygments_lexer": "ipython3",
   "version": "3.6.3"
  }
 },
 "nbformat": 4,
 "nbformat_minor": 2
}
