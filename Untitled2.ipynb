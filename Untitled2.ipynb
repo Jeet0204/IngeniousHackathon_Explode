{
 "cells": [
  {
   "cell_type": "code",
   "execution_count": null,
   "metadata": {},
   "outputs": [],
   "source": [
    "# import tweepy library for twitter api access and textblob libary for sentiment analysis\n",
    "import csv\n",
    "import tweepy\n",
    "import numpy as np\n",
    "from textblob import TextBlob\n",
    "import datetime\n",
    "import time\n",
    "import requests\n",
    "\n",
    "def main():\n",
    "\n",
    "    # set path of csv file to save sentiment stats\n",
    "    path = 'live_bitcoin.csv'\n",
    "    f = open(path,\"a\")\n",
    "    f1 = open('bitcoinprices.txt','a',encoding='utf8')\n",
    "    keys = [\"price_usd\"]\n",
    "    vals=[0]\n",
    "\n",
    "    while True:\n",
    "        data = requests.get(\"https://api.coinmarketcap.com/v1/ticker/bitcoin/\").json()[0]\n",
    "        # save sentiment data to csv file\n",
    "        for d in data.keys():\n",
    "            if d in keys:\n",
    "                indx = keys.index(d)\n",
    "                vals[indx] = data[d]\n",
    "    \n",
    "        for val in vals:\n",
    "            f.write(val+\",\")\n",
    "        \n",
    "        f.write(\"\"+datetime.datetime.now().strftime(\"%y-%m-%d-%H-%M\"))\n",
    "        f.write(\"\\n\")\n",
    "        f.flush()\n",
    "        time.sleep(60)\n",
    "    \n",
    "\n",
    "\n",
    "\n",
    "main()"
   ]
  },
  {
   "cell_type": "code",
   "execution_count": null,
   "metadata": {
    "collapsed": true
   },
   "outputs": [],
   "source": []
  },
  {
   "cell_type": "code",
   "execution_count": null,
   "metadata": {
    "collapsed": true
   },
   "outputs": [],
   "source": []
  }
 ],
 "metadata": {
  "kernelspec": {
   "display_name": "Python 3",
   "language": "python",
   "name": "python3"
  },
  "language_info": {
   "codemirror_mode": {
    "name": "ipython",
    "version": 3
   },
   "file_extension": ".py",
   "mimetype": "text/x-python",
   "name": "python",
   "nbconvert_exporter": "python",
   "pygments_lexer": "ipython3",
   "version": "3.6.3"
  }
 },
 "nbformat": 4,
 "nbformat_minor": 2
}
