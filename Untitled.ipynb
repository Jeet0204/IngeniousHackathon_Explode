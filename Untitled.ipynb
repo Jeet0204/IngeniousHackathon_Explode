{
 "cells": [
  {
   "cell_type": "code",
   "execution_count": 1,
   "metadata": {
    "collapsed": true
   },
   "outputs": [],
   "source": [
    "import pandas as pd\n",
    "btc = pd.read_csv('bitcoinprices.txt')\n",
    "btc.columns = [\"Time\",\"Price\"]\n",
    "sent = pd.read_csv('sentiment6.txt')\n",
    "sent.columns = [\"Time\",\"Sentiment\"]\n",
    "merged = sent.merge(btc, left_index=False, right_index=False, how=\"inner\")\n",
    "merged.to_csv('merged_data.csv')"
   ]
  },
  {
   "cell_type": "code",
   "execution_count": null,
   "metadata": {
    "collapsed": true
   },
   "outputs": [],
   "source": []
  }
 ],
 "metadata": {
  "kernelspec": {
   "display_name": "Python 3",
   "language": "python",
   "name": "python3"
  },
  "language_info": {
   "codemirror_mode": {
    "name": "ipython",
    "version": 3
   },
   "file_extension": ".py",
   "mimetype": "text/x-python",
   "name": "python",
   "nbconvert_exporter": "python",
   "pygments_lexer": "ipython3",
   "version": "3.6.3"
  }
 },
 "nbformat": 4,
 "nbformat_minor": 2
}
