{
 "cells": [
  {
   "cell_type": "code",
   "execution_count": null,
   "metadata": {},
   "outputs": [
    {
     "name": "stdout",
     "output_type": "stream",
     "text": [
      "vishwa1\n",
      "vishwa2\n",
      "Namespace(errorfile='bitcoin_price_error.txt', outputfile='bitcoin_price.json')\n"
     ]
    }
   ],
   "source": [
    "import requests, json\n",
    "from time import sleep\n",
    "from datetime import datetime\n",
    "import sys \n",
    "import traceback\n",
    "import argparse\n",
    "\n",
    "parser = argparse.ArgumentParser()\n",
    "parser.add_argument(\"outputfile\", nargs='?', default='bitcoin_price.json')\n",
    "print(\"vishwa1\")\n",
    "parser.add_argument(\"errorfile\", nargs='?', default='bitcoin_price_error.txt')\n",
    "print(\"vishwa2\")\n",
    "args = parser.parse_args([])\n",
    "print (args)\n",
    "\n",
    "\n",
    "\n",
    "\n",
    "\n",
    "\n",
    "def getBitcoinPrice():\n",
    "    URL = 'https://www.bitstamp.net/api/ticker/'\n",
    "    try:\n",
    "        r = requests.get(URL)\n",
    "        bitcoindata = json.loads(r.text)\n",
    "        bitcoindata['datetime'] = datetime.utcfromtimestamp(int(bitcoindata['timestamp'])).strftime('%Y-%m-%d-%H-%M-%S')        \n",
    "\n",
    "        with open(args.outputfile, mode='a') as file:\n",
    "            file.write('{},\\n'.format(json.dumps(bitcoindata)))     \n",
    "\n",
    "    except:        \n",
    "        exc_type, exc_value, exc_traceback = sys.exc_info()\n",
    "        with open(args.errorfile, mode='a') as file:           \n",
    "            traceback.print_exc(file=file)\n",
    "            file.write(('-'*100)+'\\n\\n')\n",
    "\n",
    "\n",
    "while True:\t\n",
    "    getBitcoinPrice()\n",
    "    sleep(10)"
   ]
  }
 ],
 "metadata": {
  "kernelspec": {
   "display_name": "Python 3",
   "language": "python",
   "name": "python3"
  },
  "language_info": {
   "codemirror_mode": {
    "name": "ipython",
    "version": 3
   },
   "file_extension": ".py",
   "mimetype": "text/x-python",
   "name": "python",
   "nbconvert_exporter": "python",
   "pygments_lexer": "ipython3",
   "version": "3.6.3"
  }
 },
 "nbformat": 4,
 "nbformat_minor": 2
}
