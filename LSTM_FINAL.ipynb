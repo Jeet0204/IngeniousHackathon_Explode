{
 "cells": [
  {
   "cell_type": "markdown",
   "metadata": {},
   "source": [
    "# Import Stuff"
   ]
  },
  {
   "cell_type": "code",
   "execution_count": 96,
   "metadata": {},
   "outputs": [
    {
     "data": {
      "text/html": [
       "<script>requirejs.config({paths: { 'plotly': ['https://cdn.plot.ly/plotly-latest.min']},});if(!window.Plotly) {{require(['plotly'],function(plotly) {window.Plotly=plotly;});}}</script>"
      ],
      "text/vnd.plotly.v1+html": [
       "<script>requirejs.config({paths: { 'plotly': ['https://cdn.plot.ly/plotly-latest.min']},});if(!window.Plotly) {{require(['plotly'],function(plotly) {window.Plotly=plotly;});}}</script>"
      ]
     },
     "metadata": {},
     "output_type": "display_data"
    }
   ],
   "source": [
    "from math import sqrt\n",
    "from numpy import concatenate\n",
    "from matplotlib import pyplot\n",
    "import pandas as pd\n",
    "from datetime import datetime\n",
    "from sklearn.preprocessing import MinMaxScaler\n",
    "from sklearn.preprocessing import LabelEncoder\n",
    "from sklearn.metrics import mean_squared_error\n",
    "from keras.models import Sequential\n",
    "from keras.layers import Dense\n",
    "from keras.layers import LSTM\n",
    "import plotly.offline as py\n",
    "import plotly.graph_objs as go\n",
    "import numpy as np\n",
    "import seaborn as sns\n",
    "import datetime\n",
    "import calendar\n",
    "py.init_notebook_mode(connected=True)\n",
    "%matplotlib inline\n",
    "%matplotlib notebook"
   ]
  },
  {
   "cell_type": "code",
   "execution_count": 97,
   "metadata": {
    "collapsed": true
   },
   "outputs": [],
   "source": [
    "data = pd.read_csv(\"merged_data.csv\")"
   ]
  },
  {
   "cell_type": "code",
   "execution_count": 98,
   "metadata": {},
   "outputs": [
    {
     "data": {
      "application/vnd.plotly.v1+json": {
       "data": [
        {
         "name": "Price",
         "type": "scatter",
         "x": [
          "2018-03-02",
          "2018-03-01",
          "2018-02-27",
          "2018-02-26",
          "2018-02-25",
          "2018-02-24",
          "2018-02-23",
          "2018-02-22",
          "2018-02-21",
          "2018-02-20",
          "2018-02-19",
          "2018-02-18",
          "2018-02-17",
          "2018-02-16",
          "2018-02-15",
          "2018-02-14",
          "2018-02-13",
          "2018-02-12",
          "2018-02-11",
          "2018-02-10",
          "2018-02-09",
          "2018-02-08",
          "2018-02-07",
          "2018-02-06",
          "2018-02-05",
          "2018-02-04",
          "2018-02-03",
          "2018-02-02",
          "2018-02-01",
          "2018-01-31",
          "2018-01-30",
          "2018-01-29",
          "2018-01-28",
          "2018-01-27",
          "2018-01-26",
          "2018-01-25",
          "2018-01-24",
          "2018-01-23",
          "2018-01-22",
          "2018-01-21",
          "2018-01-20",
          "2018-01-19",
          "2018-01-18",
          "2018-01-17",
          "2018-01-15",
          "2018-01-14",
          "2018-01-13"
         ],
         "y": [
          11295,
          11079.9,
          10747,
          10300,
          9498.3,
          9721,
          10442.4,
          9847.6,
          10482,
          11109.2,
          11465,
          10790,
          10626.2,
          10710,
          10185,
          9793,
          8878,
          8677,
          8399,
          7924,
          8972.6,
          8199.9,
          8274.9,
          7694,
          6852.5,
          7944,
          9155,
          8630.1,
          8384.9,
          10080,
          10148.9,
          10910,
          11054,
          11553,
          11154,
          11055,
          11437.3,
          10919.9,
          10550,
          11720,
          12825,
          12550,
          11341,
          10860,
          13536,
          13549.9,
          13778.6
         ]
        }
       ],
       "layout": {}
      },
      "text/html": [
       "<div id=\"36227b6a-962c-47a7-9f6a-6df65f634724\" style=\"height: 525px; width: 100%;\" class=\"plotly-graph-div\"></div><script type=\"text/javascript\">require([\"plotly\"], function(Plotly) { window.PLOTLYENV=window.PLOTLYENV || {};window.PLOTLYENV.BASE_URL=\"https://plot.ly\";Plotly.newPlot(\"36227b6a-962c-47a7-9f6a-6df65f634724\", [{\"type\": \"scatter\", \"x\": [\"2018-03-02\", \"2018-03-01\", \"2018-02-27\", \"2018-02-26\", \"2018-02-25\", \"2018-02-24\", \"2018-02-23\", \"2018-02-22\", \"2018-02-21\", \"2018-02-20\", \"2018-02-19\", \"2018-02-18\", \"2018-02-17\", \"2018-02-16\", \"2018-02-15\", \"2018-02-14\", \"2018-02-13\", \"2018-02-12\", \"2018-02-11\", \"2018-02-10\", \"2018-02-09\", \"2018-02-08\", \"2018-02-07\", \"2018-02-06\", \"2018-02-05\", \"2018-02-04\", \"2018-02-03\", \"2018-02-02\", \"2018-02-01\", \"2018-01-31\", \"2018-01-30\", \"2018-01-29\", \"2018-01-28\", \"2018-01-27\", \"2018-01-26\", \"2018-01-25\", \"2018-01-24\", \"2018-01-23\", \"2018-01-22\", \"2018-01-21\", \"2018-01-20\", \"2018-01-19\", \"2018-01-18\", \"2018-01-17\", \"2018-01-15\", \"2018-01-14\", \"2018-01-13\"], \"y\": [11295.0, 11079.9, 10747.0, 10300.0, 9498.3, 9721.0, 10442.4, 9847.6, 10482.0, 11109.2, 11465.0, 10790.0, 10626.2, 10710.0, 10185.0, 9793.0, 8878.0, 8677.0, 8399.0, 7924.0, 8972.6, 8199.9, 8274.9, 7694.0, 6852.5, 7944.0, 9155.0, 8630.1, 8384.9, 10080.0, 10148.9, 10910.0, 11054.0, 11553.0, 11154.0, 11055.0, 11437.3, 10919.9, 10550.0, 11720.0, 12825.0, 12550.0, 11341.0, 10860.0, 13536.0, 13549.9, 13778.6], \"name\": \"Price\"}], {}, {\"showLink\": true, \"linkText\": \"Export to plot.ly\"})});</script>"
      ],
      "text/vnd.plotly.v1+html": [
       "<div id=\"36227b6a-962c-47a7-9f6a-6df65f634724\" style=\"height: 525px; width: 100%;\" class=\"plotly-graph-div\"></div><script type=\"text/javascript\">require([\"plotly\"], function(Plotly) { window.PLOTLYENV=window.PLOTLYENV || {};window.PLOTLYENV.BASE_URL=\"https://plot.ly\";Plotly.newPlot(\"36227b6a-962c-47a7-9f6a-6df65f634724\", [{\"type\": \"scatter\", \"x\": [\"2018-03-02\", \"2018-03-01\", \"2018-02-27\", \"2018-02-26\", \"2018-02-25\", \"2018-02-24\", \"2018-02-23\", \"2018-02-22\", \"2018-02-21\", \"2018-02-20\", \"2018-02-19\", \"2018-02-18\", \"2018-02-17\", \"2018-02-16\", \"2018-02-15\", \"2018-02-14\", \"2018-02-13\", \"2018-02-12\", \"2018-02-11\", \"2018-02-10\", \"2018-02-09\", \"2018-02-08\", \"2018-02-07\", \"2018-02-06\", \"2018-02-05\", \"2018-02-04\", \"2018-02-03\", \"2018-02-02\", \"2018-02-01\", \"2018-01-31\", \"2018-01-30\", \"2018-01-29\", \"2018-01-28\", \"2018-01-27\", \"2018-01-26\", \"2018-01-25\", \"2018-01-24\", \"2018-01-23\", \"2018-01-22\", \"2018-01-21\", \"2018-01-20\", \"2018-01-19\", \"2018-01-18\", \"2018-01-17\", \"2018-01-15\", \"2018-01-14\", \"2018-01-13\"], \"y\": [11295.0, 11079.9, 10747.0, 10300.0, 9498.3, 9721.0, 10442.4, 9847.6, 10482.0, 11109.2, 11465.0, 10790.0, 10626.2, 10710.0, 10185.0, 9793.0, 8878.0, 8677.0, 8399.0, 7924.0, 8972.6, 8199.9, 8274.9, 7694.0, 6852.5, 7944.0, 9155.0, 8630.1, 8384.9, 10080.0, 10148.9, 10910.0, 11054.0, 11553.0, 11154.0, 11055.0, 11437.3, 10919.9, 10550.0, 11720.0, 12825.0, 12550.0, 11341.0, 10860.0, 13536.0, 13549.9, 13778.6], \"name\": \"Price\"}], {}, {\"showLink\": true, \"linkText\": \"Export to plot.ly\"})});</script>"
      ]
     },
     "metadata": {},
     "output_type": "display_data"
    }
   ],
   "source": [
    "dateList1 = []\n",
    "for x in data['Time'] :\n",
    "    dd = str(x%100)\n",
    "    x = int(x/100)\n",
    "    mm = str(x%100)\n",
    "    x = int(x/100)\n",
    "    yyyy = str(x)\n",
    "    dt = yyyy + '-' + mm + '-' + dd\n",
    "    dt = datetime.datetime(*[int(item) for item in dt.split('-')]).strftime(\"%Y-%m-%d\")\n",
    "    dateList1.append(dt)\n",
    "\n",
    "btc_trace = go.Scatter(x=dateList1, y=data['Price'], name= 'Price')\n",
    "py.iplot([btc_trace])"
   ]
  },
  {
   "cell_type": "code",
   "execution_count": 99,
   "metadata": {
    "scrolled": false
   },
   "outputs": [
    {
     "data": {
      "application/vnd.plotly.v1+json": {
       "data": [
        {
         "name": "Sentiment",
         "type": "scatter",
         "x": [
          "2018-03-02",
          "2018-03-01",
          "2018-02-27",
          "2018-02-26",
          "2018-02-25",
          "2018-02-24",
          "2018-02-23",
          "2018-02-22",
          "2018-02-21",
          "2018-02-20",
          "2018-02-19",
          "2018-02-18",
          "2018-02-17",
          "2018-02-16",
          "2018-02-15",
          "2018-02-14",
          "2018-02-13",
          "2018-02-12",
          "2018-02-11",
          "2018-02-10",
          "2018-02-09",
          "2018-02-08",
          "2018-02-07",
          "2018-02-06",
          "2018-02-05",
          "2018-02-04",
          "2018-02-03",
          "2018-02-02",
          "2018-02-01",
          "2018-01-31",
          "2018-01-30",
          "2018-01-29",
          "2018-01-28",
          "2018-01-27",
          "2018-01-26",
          "2018-01-25",
          "2018-01-24",
          "2018-01-23",
          "2018-01-22",
          "2018-01-21",
          "2018-01-20",
          "2018-01-19",
          "2018-01-18",
          "2018-01-17",
          "2018-01-15",
          "2018-01-14",
          "2018-01-13"
         ],
         "y": [
          0.27687922614650823,
          0.27687922614650823,
          0.2512193588544907,
          0.20470351925331026,
          0.1445212800573612,
          0.11268136535062255,
          0.3402300685691568,
          0.35078983650460666,
          0.2805391898806985,
          0.23796866628965724,
          0.2652441528155129,
          0.1373335047073757,
          0.29695412346840144,
          0.2927679938876958,
          0.3684467151710891,
          0.2471831245233905,
          0.14409496311348804,
          0.19903310088470266,
          0.16122888429841933,
          0.2379784840558761,
          0.39373271690136996,
          0.2864430339397303,
          0.11915661030457253,
          0.2618916056576566,
          0.1920853233716242,
          0.23409067505903305,
          0.18439004167670306,
          0.3229195162672407,
          0.2180328977811091,
          0.12486401752328928,
          0.3105585170260831,
          0.2961882897674616,
          0.3855526459398716,
          0.13694515409284486,
          0.2871231536167469,
          0.2340548677685932,
          0.14483581852307595,
          0.2128766070204756,
          0.2388522533770183,
          0.15090373887224642,
          0.33106557533461844,
          0.22478676424697205,
          0.14297622977840885,
          0.016739321585987302,
          0.2679067229409301,
          0.3250231482662205,
          0.10259928558139053
         ]
        }
       ],
       "layout": {}
      },
      "text/html": [
       "<div id=\"5a4bfd9f-fe82-4b15-92d4-822834fc82cd\" style=\"height: 525px; width: 100%;\" class=\"plotly-graph-div\"></div><script type=\"text/javascript\">require([\"plotly\"], function(Plotly) { window.PLOTLYENV=window.PLOTLYENV || {};window.PLOTLYENV.BASE_URL=\"https://plot.ly\";Plotly.newPlot(\"5a4bfd9f-fe82-4b15-92d4-822834fc82cd\", [{\"type\": \"scatter\", \"x\": [\"2018-03-02\", \"2018-03-01\", \"2018-02-27\", \"2018-02-26\", \"2018-02-25\", \"2018-02-24\", \"2018-02-23\", \"2018-02-22\", \"2018-02-21\", \"2018-02-20\", \"2018-02-19\", \"2018-02-18\", \"2018-02-17\", \"2018-02-16\", \"2018-02-15\", \"2018-02-14\", \"2018-02-13\", \"2018-02-12\", \"2018-02-11\", \"2018-02-10\", \"2018-02-09\", \"2018-02-08\", \"2018-02-07\", \"2018-02-06\", \"2018-02-05\", \"2018-02-04\", \"2018-02-03\", \"2018-02-02\", \"2018-02-01\", \"2018-01-31\", \"2018-01-30\", \"2018-01-29\", \"2018-01-28\", \"2018-01-27\", \"2018-01-26\", \"2018-01-25\", \"2018-01-24\", \"2018-01-23\", \"2018-01-22\", \"2018-01-21\", \"2018-01-20\", \"2018-01-19\", \"2018-01-18\", \"2018-01-17\", \"2018-01-15\", \"2018-01-14\", \"2018-01-13\"], \"y\": [0.27687922614650823, 0.27687922614650823, 0.2512193588544907, 0.20470351925331026, 0.1445212800573612, 0.11268136535062255, 0.3402300685691568, 0.35078983650460666, 0.2805391898806985, 0.23796866628965724, 0.2652441528155129, 0.1373335047073757, 0.29695412346840144, 0.2927679938876958, 0.3684467151710891, 0.2471831245233905, 0.14409496311348804, 0.19903310088470266, 0.16122888429841933, 0.2379784840558761, 0.39373271690136996, 0.2864430339397303, 0.11915661030457253, 0.2618916056576566, 0.1920853233716242, 0.23409067505903305, 0.18439004167670306, 0.3229195162672407, 0.2180328977811091, 0.12486401752328928, 0.3105585170260831, 0.2961882897674616, 0.3855526459398716, 0.13694515409284486, 0.2871231536167469, 0.2340548677685932, 0.14483581852307595, 0.2128766070204756, 0.2388522533770183, 0.15090373887224642, 0.33106557533461844, 0.22478676424697205, 0.14297622977840885, 0.016739321585987302, 0.2679067229409301, 0.3250231482662205, 0.10259928558139053], \"name\": \"Sentiment\"}], {}, {\"showLink\": true, \"linkText\": \"Export to plot.ly\"})});</script>"
      ],
      "text/vnd.plotly.v1+html": [
       "<div id=\"5a4bfd9f-fe82-4b15-92d4-822834fc82cd\" style=\"height: 525px; width: 100%;\" class=\"plotly-graph-div\"></div><script type=\"text/javascript\">require([\"plotly\"], function(Plotly) { window.PLOTLYENV=window.PLOTLYENV || {};window.PLOTLYENV.BASE_URL=\"https://plot.ly\";Plotly.newPlot(\"5a4bfd9f-fe82-4b15-92d4-822834fc82cd\", [{\"type\": \"scatter\", \"x\": [\"2018-03-02\", \"2018-03-01\", \"2018-02-27\", \"2018-02-26\", \"2018-02-25\", \"2018-02-24\", \"2018-02-23\", \"2018-02-22\", \"2018-02-21\", \"2018-02-20\", \"2018-02-19\", \"2018-02-18\", \"2018-02-17\", \"2018-02-16\", \"2018-02-15\", \"2018-02-14\", \"2018-02-13\", \"2018-02-12\", \"2018-02-11\", \"2018-02-10\", \"2018-02-09\", \"2018-02-08\", \"2018-02-07\", \"2018-02-06\", \"2018-02-05\", \"2018-02-04\", \"2018-02-03\", \"2018-02-02\", \"2018-02-01\", \"2018-01-31\", \"2018-01-30\", \"2018-01-29\", \"2018-01-28\", \"2018-01-27\", \"2018-01-26\", \"2018-01-25\", \"2018-01-24\", \"2018-01-23\", \"2018-01-22\", \"2018-01-21\", \"2018-01-20\", \"2018-01-19\", \"2018-01-18\", \"2018-01-17\", \"2018-01-15\", \"2018-01-14\", \"2018-01-13\"], \"y\": [0.27687922614650823, 0.27687922614650823, 0.2512193588544907, 0.20470351925331026, 0.1445212800573612, 0.11268136535062255, 0.3402300685691568, 0.35078983650460666, 0.2805391898806985, 0.23796866628965724, 0.2652441528155129, 0.1373335047073757, 0.29695412346840144, 0.2927679938876958, 0.3684467151710891, 0.2471831245233905, 0.14409496311348804, 0.19903310088470266, 0.16122888429841933, 0.2379784840558761, 0.39373271690136996, 0.2864430339397303, 0.11915661030457253, 0.2618916056576566, 0.1920853233716242, 0.23409067505903305, 0.18439004167670306, 0.3229195162672407, 0.2180328977811091, 0.12486401752328928, 0.3105585170260831, 0.2961882897674616, 0.3855526459398716, 0.13694515409284486, 0.2871231536167469, 0.2340548677685932, 0.14483581852307595, 0.2128766070204756, 0.2388522533770183, 0.15090373887224642, 0.33106557533461844, 0.22478676424697205, 0.14297622977840885, 0.016739321585987302, 0.2679067229409301, 0.3250231482662205, 0.10259928558139053], \"name\": \"Sentiment\"}], {}, {\"showLink\": true, \"linkText\": \"Export to plot.ly\"})});</script>"
      ]
     },
     "metadata": {},
     "output_type": "display_data"
    }
   ],
   "source": [
    "sent_trace = go.Scatter(x=dateList1, y=data['Sentiment'], name= 'Sentiment')\n",
    "py.iplot([sent_trace])"
   ]
  },
  {
   "cell_type": "code",
   "execution_count": 106,
   "metadata": {},
   "outputs": [],
   "source": [
    "datag = data[['Price','Sentiment']].groupby(data['Time']).mean()"
   ]
  },
  {
   "cell_type": "markdown",
   "metadata": {},
   "source": [
    "## Training a simple random model:"
   ]
  },
  {
   "cell_type": "code",
   "execution_count": 122,
   "metadata": {},
   "outputs": [],
   "source": [
    "from sklearn.preprocessing import MinMaxScaler\n",
    "values = datag['Price'].values.reshape(-1,1)\n",
    "sentiment = datag['Sentiment'].values.reshape(-1,1)\n",
    "values = values.astype('float32')\n",
    "sentiment = sentiment.astype('float32')\n",
    "scaler = MinMaxScaler(feature_range=(0, 1))\n",
    "scaled = scaler.fit_transform(values)"
   ]
  },
  {
   "cell_type": "code",
   "execution_count": 102,
   "metadata": {},
   "outputs": [
    {
     "name": "stdout",
     "output_type": "stream",
     "text": [
      "32 15\n"
     ]
    }
   ],
   "source": [
    "train_size = int(len(scaled) * 0.7)\n",
    "test_size = len(scaled) - train_size\n",
    "train, test = scaled[0:train_size,:], scaled[train_size:len(scaled),:]\n",
    "print(len(train), len(test))\n",
    "split = train_size"
   ]
  },
  {
   "cell_type": "code",
   "execution_count": 104,
   "metadata": {},
   "outputs": [],
   "source": [
    "def create_dataset(dataset, look_back, sentiment, sent=False):\n",
    "    dataX, dataY = [], []\n",
    "    for i in range(len(dataset) - look_back):\n",
    "        if i >= look_back:\n",
    "            a = dataset[i-look_back:i+1, 0]\n",
    "            a = a.tolist()\n",
    "            if(sent==True):\n",
    "                a.append(sentiment[i].tolist()[0])\n",
    "            dataX.append(a)\n",
    "            dataY.append(dataset[i + look_back, 0])\n",
    "    #print(len(dataY))\n",
    "    return np.array(dataX), np.array(dataY)"
   ]
  },
  {
   "cell_type": "markdown",
   "metadata": {},
   "source": [
    "### with lookback = 1 (kind of unigram)"
   ]
  },
  {
   "cell_type": "code",
   "execution_count": 117,
   "metadata": {},
   "outputs": [
    {
     "data": {
      "text/plain": [
       "array([[ 0.48115104,  0.55695134],\n",
       "       [ 0.55695134,  0.5448522 ],\n",
       "       [ 0.5448522 ,  0.56850177],\n",
       "       [ 0.56850177,  0.6659593 ],\n",
       "       [ 0.6659593 ,  0.61458832],\n",
       "       [ 0.61458832,  0.52403229],\n",
       "       [ 0.52403229,  0.43243665],\n",
       "       [ 0.43243665,  0.5183149 ],\n",
       "       [ 0.5183149 ,  0.41415805],\n",
       "       [ 0.41415805,  0.38200432],\n",
       "       [ 0.38200432,  0.49775487],\n",
       "       [ 0.49775487,  0.56229335],\n",
       "       [ 0.56229335,  0.61035806]])"
      ]
     },
     "execution_count": 117,
     "metadata": {},
     "output_type": "execute_result"
    }
   ],
   "source": [
    "look_back = 1\n",
    "trainX, trainY = create_dataset(train, look_back, sentiment[0:train_size])\n",
    "testX, testY = create_dataset(test, look_back, sentiment[train_size:len(scaled)])\n",
    "testX"
   ]
  },
  {
   "cell_type": "code",
   "execution_count": null,
   "metadata": {
    "collapsed": true
   },
   "outputs": [],
   "source": [
    "trainX = np.reshape(trainX, (trainX.shape[0], 1, trainX.shape[1]))\n",
    "testX = np.reshape(testX, (testX.shape[0], 1, testX.shape[1]))"
   ]
  },
  {
   "cell_type": "code",
   "execution_count": null,
   "metadata": {
    "collapsed": true
   },
   "outputs": [],
   "source": [
    "model = Sequential()\n",
    "model.add(LSTM(100, input_shape=(trainX.shape[1], trainX.shape[2])))\n",
    "model.add(Dense(1))\n",
    "model.compile(loss='mae', optimizer='adam')\n",
    "history = model.fit(trainX, trainY, epochs=300, batch_size=100, validation_data=(testX, testY), verbose=0, shuffle=False)"
   ]
  },
  {
   "cell_type": "code",
   "execution_count": null,
   "metadata": {},
   "outputs": [],
   "source": [
    "%matplotlib inline\n",
    "yhat = model.predict(testX)\n",
    "pyplot.plot(yhat, label='predict')\n",
    "pyplot.plot(testY, label='true')\n",
    "pyplot.legend()\n",
    "pyplot.show()"
   ]
  },
  {
   "cell_type": "code",
   "execution_count": null,
   "metadata": {
    "collapsed": true
   },
   "outputs": [],
   "source": [
    "yhat_inverse_1 = scaler.inverse_transform(yhat.reshape(-1, 1))\n",
    "testY_inverse_1 = scaler.inverse_transform(testY.reshape(-1, 1))"
   ]
  },
  {
   "cell_type": "code",
   "execution_count": null,
   "metadata": {},
   "outputs": [],
   "source": [
    "rmse_1 = sqrt(mean_squared_error(testY_inverse_1, yhat_inverse_1))\n",
    "print('Test RMSE: %.3f' % rmse_1)"
   ]
  },
  {
   "cell_type": "code",
   "execution_count": null,
   "metadata": {
    "collapsed": true
   },
   "outputs": [],
   "source": [
    "model_1 = model"
   ]
  },
  {
   "cell_type": "markdown",
   "metadata": {},
   "source": [
    "### with lookback = 2(kind of biram)"
   ]
  },
  {
   "cell_type": "code",
   "execution_count": null,
   "metadata": {
    "collapsed": true
   },
   "outputs": [],
   "source": [
    "look_back = 2\n",
    "trainX, trainY = create_dataset(train, look_back, sentiment[0:train_size])\n",
    "testX, testY = create_dataset(test, look_back, sentiment[train_size:len(scaled)])"
   ]
  },
  {
   "cell_type": "code",
   "execution_count": null,
   "metadata": {
    "collapsed": true
   },
   "outputs": [],
   "source": [
    "trainX = np.reshape(trainX, (trainX.shape[0], 1, trainX.shape[1]))\n",
    "testX = np.reshape(testX, (testX.shape[0], 1, testX.shape[1]))"
   ]
  },
  {
   "cell_type": "code",
   "execution_count": null,
   "metadata": {
    "collapsed": true
   },
   "outputs": [],
   "source": [
    "model = Sequential()\n",
    "model.add(LSTM(100, input_shape=(trainX.shape[1], trainX.shape[2])))\n",
    "model.add(Dense(1))\n",
    "model.compile(loss='mae', optimizer='adam')\n",
    "history = model.fit(trainX, trainY, epochs=300, batch_size=100, validation_data=(testX, testY), verbose=0, shuffle=False)"
   ]
  },
  {
   "cell_type": "code",
   "execution_count": null,
   "metadata": {},
   "outputs": [],
   "source": [
    "%matplotlib inline\n",
    "yhat = model.predict(testX)\n",
    "pyplot.plot(yhat, label='predict')\n",
    "pyplot.plot(testY, label='true')\n",
    "pyplot.legend()\n",
    "pyplot.show()"
   ]
  },
  {
   "cell_type": "code",
   "execution_count": null,
   "metadata": {
    "collapsed": true
   },
   "outputs": [],
   "source": [
    "yhat_inverse_2 = scaler.inverse_transform(yhat.reshape(-1, 1))\n",
    "testY_inverse_2 = scaler.inverse_transform(testY.reshape(-1, 1))"
   ]
  },
  {
   "cell_type": "code",
   "execution_count": null,
   "metadata": {},
   "outputs": [],
   "source": [
    "rmse_2 = sqrt(mean_squared_error(testY_inverse_2, yhat_inverse_2))\n",
    "print('Test RMSE: %.3f' % rmse_2)"
   ]
  },
  {
   "cell_type": "code",
   "execution_count": null,
   "metadata": {
    "collapsed": true
   },
   "outputs": [],
   "source": [
    "model2 = model"
   ]
  },
  {
   "cell_type": "markdown",
   "metadata": {},
   "source": [
    "## With lookback = 3"
   ]
  },
  {
   "cell_type": "code",
   "execution_count": null,
   "metadata": {
    "collapsed": true
   },
   "outputs": [],
   "source": [
    "look_back = 3\n",
    "trainX, trainY = create_dataset(train, look_back, sentiment[0:train_size])\n",
    "testX, testY = create_dataset(test, look_back, sentiment[train_size:len(scaled)])"
   ]
  },
  {
   "cell_type": "code",
   "execution_count": null,
   "metadata": {
    "collapsed": true
   },
   "outputs": [],
   "source": [
    "trainX = np.reshape(trainX, (trainX.shape[0], 1, trainX.shape[1]))\n",
    "testX = np.reshape(testX, (testX.shape[0], 1, testX.shape[1]))"
   ]
  },
  {
   "cell_type": "code",
   "execution_count": null,
   "metadata": {
    "collapsed": true
   },
   "outputs": [],
   "source": [
    "model = Sequential()\n",
    "model.add(LSTM(100, input_shape=(trainX.shape[1], trainX.shape[2])))\n",
    "model.add(Dense(1))\n",
    "model.compile(loss='mae', optimizer='adam')\n",
    "history = model.fit(trainX, trainY, epochs=300, batch_size=100, validation_data=(testX, testY), verbose=0, shuffle=False)"
   ]
  },
  {
   "cell_type": "code",
   "execution_count": null,
   "metadata": {},
   "outputs": [],
   "source": [
    "%matplotlib inline\n",
    "yhat = model.predict(testX)\n",
    "pyplot.plot(yhat, label='predict')\n",
    "pyplot.plot(testY, label='true')\n",
    "pyplot.legend()\n",
    "pyplot.show()"
   ]
  },
  {
   "cell_type": "code",
   "execution_count": null,
   "metadata": {
    "collapsed": true
   },
   "outputs": [],
   "source": [
    "yhat_inverse_3 = scaler.inverse_transform(yhat.reshape(-1, 1))\n",
    "testY_inverse_3 = scaler.inverse_transform(testY.reshape(-1, 1))"
   ]
  },
  {
   "cell_type": "code",
   "execution_count": null,
   "metadata": {},
   "outputs": [],
   "source": [
    "rmse_3 = sqrt(mean_squared_error(testY_inverse_3, yhat_inverse_3))\n",
    "print('Test RMSE: %.3f' % rmse_3)"
   ]
  },
  {
   "cell_type": "code",
   "execution_count": null,
   "metadata": {
    "collapsed": true
   },
   "outputs": [],
   "source": [
    "model3 = model"
   ]
  },
  {
   "cell_type": "markdown",
   "metadata": {},
   "source": [
    "## Plotting different lookups"
   ]
  },
  {
   "cell_type": "code",
   "execution_count": null,
   "metadata": {
    "scrolled": true
   },
   "outputs": [],
   "source": [
    "%matplotlib inline\n",
    "pyplot.plot(yhat_inverse_1, label='predict_lookup_1')\n",
    "pyplot.plot(yhat_inverse_2, label='predict_lookup_1')\n",
    "pyplot.plot(yhat_inverse_3, label='predict_lookup_1')\n",
    "pyplot.plot(testY_inverse_3, label='true')\n",
    "pyplot.legend()\n",
    "pyplot.show()"
   ]
  },
  {
   "cell_type": "code",
   "execution_count": null,
   "metadata": {},
   "outputs": [],
   "source": [
    "len(datag.index.values)"
   ]
  },
  {
   "cell_type": "code",
   "execution_count": null,
   "metadata": {},
   "outputs": [],
   "source": [
    "btc_1_trace = go.Scatter(x=datag.index.values[47-13-1:], y=yhat_inverse_1.reshape(13), name= 'predict_lookup_1')\n",
    "btc_2_trace = go.Scatter(x=datag.index.values[47-11-1:], y=yhat_inverse_2.reshape(11), name= 'predict_lookup_2')\n",
    "btc_3_trace = go.Scatter(x=datag.index.values[47-9-1:], y=yhat_inverse_3.reshape(9), name= 'predict_lookup_3')\n",
    "btc_t_trace = go.Scatter(x=datag.index.values[47-13-1:], y=testY_inverse_1.reshape(13), name= 'True')\n",
    "\n",
    "py.iplot([btc_1_trace,btc_2_trace, btc_3_trace, btc_t_trace])"
   ]
  },
  {
   "cell_type": "markdown",
   "metadata": {},
   "source": [
    "# With sentiment and lookup2"
   ]
  },
  {
   "cell_type": "code",
   "execution_count": null,
   "metadata": {
    "collapsed": true
   },
   "outputs": [],
   "source": [
    "look_back = 2\n",
    "trainX, trainY = create_dataset(train, look_back, sentiment[0:train_size],sent=True)\n",
    "testX, testY = create_dataset(test, look_back, sentiment[train_size:len(scaled)], sent=True)"
   ]
  },
  {
   "cell_type": "code",
   "execution_count": null,
   "metadata": {
    "collapsed": true
   },
   "outputs": [],
   "source": [
    "trainX = np.reshape(trainX, (trainX.shape[0], 1, trainX.shape[1]))\n",
    "testX = np.reshape(testX, (testX.shape[0], 1, testX.shape[1]))"
   ]
  },
  {
   "cell_type": "code",
   "execution_count": null,
   "metadata": {
    "collapsed": true
   },
   "outputs": [],
   "source": [
    "model = Sequential()\n",
    "model.add(LSTM(100, input_shape=(trainX.shape[1], trainX.shape[2]), return_sequences=True))\n",
    "model.add(LSTM(100))\n",
    "model.add(Dense(1))\n",
    "model.compile(loss='mae', optimizer='adam')\n",
    "history = model.fit(trainX, trainY, epochs=300, batch_size=100, validation_data=(testX, testY), verbose=0, shuffle=False)"
   ]
  },
  {
   "cell_type": "code",
   "execution_count": null,
   "metadata": {},
   "outputs": [],
   "source": [
    "%matplotlib inline\n",
    "yhat = model.predict(testX)\n",
    "pyplot.plot(yhat, label='predict')\n",
    "pyplot.plot(testY, label='true')\n",
    "pyplot.legend()\n",
    "pyplot.show()"
   ]
  },
  {
   "cell_type": "code",
   "execution_count": null,
   "metadata": {
    "collapsed": true
   },
   "outputs": [],
   "source": [
    "yhat_inverse_sent = scaler.inverse_transform(yhat.reshape(-1, 1))\n",
    "testY_inverse_sent = scaler.inverse_transform(testY.reshape(-1, 1))"
   ]
  },
  {
   "cell_type": "code",
   "execution_count": null,
   "metadata": {},
   "outputs": [],
   "source": [
    "rmse_sent = sqrt(mean_squared_error(testY_inverse_sent, yhat_inverse_sent))\n",
    "print('Test RMSE: %.3f' % rmse_sent)"
   ]
  },
  {
   "cell_type": "code",
   "execution_count": null,
   "metadata": {},
   "outputs": [],
   "source": [
    "len(yhat)"
   ]
  },
  {
   "cell_type": "code",
   "execution_count": null,
   "metadata": {
    "collapsed": true
   },
   "outputs": [],
   "source": [
    "dateList1 = []\n",
    "dateList2 = []\n",
    "dateList3 = []\n",
    "\n",
    "for x in datag.index.values[47-11-1:][0:500] :\n",
    "    dd = str(x%100)\n",
    "    x = int(x/100)\n",
    "    mm = str(x%100)\n",
    "    x = int(x/100)\n",
    "    yyyy = str(x)\n",
    "    dt = yyyy + '-' + mm + '-' + dd\n",
    "    dt = datetime.datetime(*[int(item) for item in dt.split('-')]).strftime(\"%Y-%m-%d\")\n",
    "    dateList1.append(dt)\n",
    "    \n",
    "for x in datag.index.values[47-13-1:][0:500] :\n",
    "    dd = str(x%100)\n",
    "    x = int(x/100)\n",
    "    mm = str(x%100)\n",
    "    x = int(x/100)\n",
    "    yyyy = str(x)\n",
    "    dt = yyyy + '-' + mm + '-' + dd\n",
    "    dt = datetime.datetime(*[int(item) for item in dt.split('-')]).strftime(\"%Y-%m-%d\")\n",
    "    dateList2.append(dt)\n",
    "    \n",
    "for x in datag.index.values[47-11-1:][0:500] :\n",
    "    dd = str(x%100)\n",
    "    x = int(x/100)\n",
    "    mm = str(x%100)\n",
    "    x = int(x/100)\n",
    "    yyyy = str(x)\n",
    "    dt = yyyy + '-' + mm + '-' + dd\n",
    "    dt = datetime.datetime(*[int(item) for item in dt.split('-')]).strftime(\"%Y-%m-%d\")\n",
    "    dateList3.append(dt)"
   ]
  },
  {
   "cell_type": "code",
   "execution_count": null,
   "metadata": {
    "scrolled": false
   },
   "outputs": [],
   "source": [
    "btc_1_trace = go.Scatter(x=dateList1, y=yhat_inverse_sent.reshape(11)[0:500], name= 'With_Sentiment')\n",
    "btc_2_trace = go.Scatter(x=dateList2, y=yhat_inverse_1.reshape(13)[0:500], name= 'No_Sentiment')\n",
    "btc_3_trace = go.Scatter(x=dateList3, y=testY_inverse_sent.reshape(11)[0:500], name= 'True')\n",
    "py.iplot([btc_1_trace,btc_2_trace,btc_3_trace])"
   ]
  },
  {
   "cell_type": "code",
   "execution_count": null,
   "metadata": {
    "collapsed": true
   },
   "outputs": [],
   "source": [
    "model_sent = model"
   ]
  },
  {
   "cell_type": "markdown",
   "metadata": {},
   "source": [
    "## Now go live with the model:"
   ]
  },
  {
   "cell_type": "code",
   "execution_count": null,
   "metadata": {},
   "outputs": [],
   "source": [
    "import MySQLdb\n",
    "#Enter the values for you database connection\n",
    "dsn_database = \"bitcoin\"         # e.g. \"MySQLdbtest\"\n",
    "dsn_hostname = \"173.194.231.244\"      # e.g.: \"mydbinstance.xyz.us-east-1.rds.amazonaws.com\"\n",
    "dsn_port = 3306                  # e.g. 3306 \n",
    "dsn_uid = \"demo\"             # e.g. \"user1\"\n",
    "dsn_pwd = \"qwerty@123\"              # e.g. \"Password123\""
   ]
  },
  {
   "cell_type": "code",
   "execution_count": null,
   "metadata": {
    "collapsed": true
   },
   "outputs": [],
   "source": [
    "conn = MySQLdb.connect(host=dsn_hostname, port=dsn_port, user=dsn_uid, passwd=dsn_pwd, db=dsn_database)"
   ]
  },
  {
   "cell_type": "code",
   "execution_count": null,
   "metadata": {
    "collapsed": true
   },
   "outputs": [],
   "source": [
    "cursor=conn.cursor()\n",
    "cursor.execute(\"\"\"SELECT * FROM live_data\"\"\")\n",
    "cursor.fetchone()"
   ]
  },
  {
   "cell_type": "code",
   "execution_count": null,
   "metadata": {
    "collapsed": true
   },
   "outputs": [],
   "source": [
    "print (\"\\nShow me the records:\\n\")\n",
    "rows = cursor.fetchall()\n",
    "import pprint\n",
    "pprint.pprint(rows)"
   ]
  },
  {
   "cell_type": "code",
   "execution_count": null,
   "metadata": {
    "collapsed": true
   },
   "outputs": [],
   "source": [
    "cursor.execute(\"\"\"INSERT INTO live_data values(15625,16000,0.8,'1000-01-01 00:00:00');\"\"\")"
   ]
  },
  {
   "cell_type": "code",
   "execution_count": null,
   "metadata": {
    "collapsed": true
   },
   "outputs": [],
   "source": [
    "conn.commit()"
   ]
  },
  {
   "cell_type": "code",
   "execution_count": null,
   "metadata": {
    "collapsed": true
   },
   "outputs": [],
   "source": [
    "cursor.close()"
   ]
  },
  {
   "cell_type": "code",
   "execution_count": null,
   "metadata": {
    "collapsed": true
   },
   "outputs": [],
   "source": [
    "# develop a real time pipeline"
   ]
  },
  {
   "cell_type": "code",
   "execution_count": null,
   "metadata": {
    "collapsed": true
   },
   "outputs": [],
   "source": [
    "import queue \n",
    "import time\n",
    "import matplotlib"
   ]
  },
  {
   "cell_type": "code",
   "execution_count": null,
   "metadata": {
    "collapsed": true
   },
   "outputs": [],
   "source": [
    "matplotlib.__version__"
   ]
  },
  {
   "cell_type": "code",
   "execution_count": null,
   "metadata": {
    "collapsed": true
   },
   "outputs": [],
   "source": [
    "import queue\n",
    "import matplotlib.pyplot as plt\n",
    "true_q = queue.Queue()\n",
    "pred_q = queue.Queue()\n",
    "'''\n",
    "fig = plt.figure()\n",
    "ax = fig.add_subplot(111)\n",
    "fig.show()\n",
    "fig.canvas.draw()\n",
    "plt.ion()\n",
    "'''\n",
    "\n",
    "def process_data(in_data):\n",
    "    out_data = []\n",
    "    for line in in_data:\n",
    "        out_data.append(float(line.split(',')[0]))\n",
    "    return np.array(out_data).reshape(-1,1)\n",
    "prev = 15000\n",
    "threshold = 0.5\n",
    "while True:\n",
    "    btc = open('live_bitcoin.csv','r')\n",
    "    sent = open('live_tweet.csv','r')\n",
    "    bit_data = btc.readlines()\n",
    "    sent_data = sent.readlines()\n",
    "    bit_data = process_data(bit_data[len(bit_data)-5:])\n",
    "    sent_data = process_data(sent_data[len(sent_data)-5:])\n",
    "    live = scaler.transform(bit_data)\n",
    "    testX, testY = create_dataset(live, 2, sent_data, sent=True)\n",
    "    testX = np.reshape(testX, (testX.shape[0], 1, testX.shape[1]))\n",
    "    yhat = model.predict(testX)\n",
    "    yhat_inverse = scaler.inverse_transform(yhat.reshape(-1, 1))\n",
    "    true_q.put(bit_data[4])\n",
    "    pred_q.put(yhat_inverse[0])\n",
    "    val = 100*((yhat_inverse[0][0] - prev)/prev)\n",
    "    if val > threshold:\n",
    "        decision = 'buy'\n",
    "    elif val <-threshold:\n",
    "        decision = 'sell'\n",
    "    else:\n",
    "        decision = ''\n",
    "    prev = yhat_inverse[0][0]\n",
    "    input_string = \"INSERT INTO live_data values ({},{},{},'{}','{}');\".format(yhat_inverse[0][0],bit_data[0][0],sent_data[4][0],datetime.datetime.now().strftime('%Y-%m-%d %H:%M:%S '),decision)\n",
    "    cursor.execute(input_string)\n",
    "    conn.commit()\n",
    "    time.sleep(60)\n",
    "    '''\n",
    "    if true_q.qsize() > 9:\n",
    "        true_q.get()\n",
    "        pred_q.get()\n",
    "        ax.clear()\n",
    "        ax.plot()\n",
    "        ax.plot(list(true_q.queue),'-',label='True')\n",
    "        ax.plot(list(pred_q.queue),'--',label='Predict')\n",
    "        ax.legend()\n",
    "        fig.canvas.draw()\n",
    "        time.sleep(60)\n",
    "    ''' \n",
    "        "
   ]
  },
  {
   "cell_type": "code",
   "execution_count": null,
   "metadata": {
    "collapsed": true
   },
   "outputs": [],
   "source": [
    "import datetime\n",
    "datetime.datetime.now()"
   ]
  }
 ],
 "metadata": {
  "kernelspec": {
   "display_name": "Python 3",
   "language": "python",
   "name": "python3"
  },
  "language_info": {
   "codemirror_mode": {
    "name": "ipython",
    "version": 3
   },
   "file_extension": ".py",
   "mimetype": "text/x-python",
   "name": "python",
   "nbconvert_exporter": "python",
   "pygments_lexer": "ipython3",
   "version": "3.6.4"
  }
 },
 "nbformat": 4,
 "nbformat_minor": 2
}
