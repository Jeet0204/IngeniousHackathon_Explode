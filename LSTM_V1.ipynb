{
 "cells": [
  {
   "cell_type": "markdown",
   "metadata": {
    "_cell_guid": "9e989304-ca31-4ed6-af3b-75e59c6a0999",
    "_uuid": "adbb914cc1466a3652d51972988e26cf2b309a90"
   },
   "source": [
    "# Bitcoin Time Series Prediction with LSTM"
   ]
  },
  {
   "cell_type": "code",
   "execution_count": 76,
   "metadata": {
    "scrolled": true
   },
   "outputs": [
    {
     "name": "stderr",
     "output_type": "stream",
     "text": [
      "'sudo' is not recognized as an internal or external command,\n",
      "operable program or batch file.\n"
     ]
    }
   ],
   "source": [
    "!sudo pip3 install keras"
   ]
  },
  {
   "cell_type": "code",
   "execution_count": 77,
   "metadata": {
    "scrolled": true
   },
   "outputs": [
    {
     "name": "stderr",
     "output_type": "stream",
     "text": [
      "'sudo' is not recognized as an internal or external command,\n",
      "operable program or batch file.\n"
     ]
    }
   ],
   "source": [
    "!sudo pip3 install pandas"
   ]
  },
  {
   "cell_type": "code",
   "execution_count": 78,
   "metadata": {
    "scrolled": true
   },
   "outputs": [
    {
     "name": "stderr",
     "output_type": "stream",
     "text": [
      "'sudo' is not recognized as an internal or external command,\n",
      "operable program or batch file.\n"
     ]
    }
   ],
   "source": [
    "!sudo pip3 install plotly"
   ]
  },
  {
   "cell_type": "code",
   "execution_count": 79,
   "metadata": {
    "scrolled": true
   },
   "outputs": [
    {
     "name": "stderr",
     "output_type": "stream",
     "text": [
      "'sudo' is not recognized as an internal or external command,\n",
      "operable program or batch file.\n"
     ]
    }
   ],
   "source": [
    "!sudo pip3 install seaborn"
   ]
  },
  {
   "cell_type": "code",
   "execution_count": 80,
   "metadata": {
    "scrolled": true
   },
   "outputs": [
    {
     "name": "stderr",
     "output_type": "stream",
     "text": [
      "'sudo' is not recognized as an internal or external command,\n",
      "operable program or batch file.\n"
     ]
    }
   ],
   "source": [
    "!sudo pip3 install numpy"
   ]
  },
  {
   "cell_type": "code",
   "execution_count": 81,
   "metadata": {
    "scrolled": true
   },
   "outputs": [
    {
     "name": "stderr",
     "output_type": "stream",
     "text": [
      "'sudo' is not recognized as an internal or external command,\n",
      "operable program or batch file.\n"
     ]
    }
   ],
   "source": [
    "!sudo pip3 install sklearn"
   ]
  },
  {
   "cell_type": "code",
   "execution_count": 82,
   "metadata": {
    "scrolled": true
   },
   "outputs": [
    {
     "name": "stderr",
     "output_type": "stream",
     "text": [
      "'sudo' is not recognized as an internal or external command,\n",
      "operable program or batch file.\n"
     ]
    }
   ],
   "source": [
    "!sudo pip3 install tensorflow"
   ]
  },
  {
   "cell_type": "code",
   "execution_count": 83,
   "metadata": {},
   "outputs": [
    {
     "name": "stderr",
     "output_type": "stream",
     "text": [
      "'sudo' is not recognized as an internal or external command,\n",
      "operable program or batch file.\n"
     ]
    }
   ],
   "source": [
    "!sudo pip3 install quandl"
   ]
  },
  {
   "cell_type": "markdown",
   "metadata": {
    "_cell_guid": "660f58b8-64df-4932-8866-2a7468cecbd1",
    "_uuid": "998bc1be9e33074e35114ff479c91a8fdba35d0f"
   },
   "source": [
    "#### Import necessary library needed for the model training"
   ]
  },
  {
   "cell_type": "code",
   "execution_count": 103,
   "metadata": {
    "_cell_guid": "1a872b10-351e-453b-8e3e-2e59ce70b53c",
    "_uuid": "124a1f6d7d906ede16ee8c759bd70d924d25beba"
   },
   "outputs": [
    {
     "data": {
      "text/html": [
       "<script>requirejs.config({paths: { 'plotly': ['https://cdn.plot.ly/plotly-latest.min']},});if(!window.Plotly) {{require(['plotly'],function(plotly) {window.Plotly=plotly;});}}</script>"
      ],
      "text/vnd.plotly.v1+html": [
       "<script>requirejs.config({paths: { 'plotly': ['https://cdn.plot.ly/plotly-latest.min']},});if(!window.Plotly) {{require(['plotly'],function(plotly) {window.Plotly=plotly;});}}</script>"
      ]
     },
     "metadata": {},
     "output_type": "display_data"
    }
   ],
   "source": [
    "from math import sqrt\n",
    "from numpy import concatenate\n",
    "from matplotlib import pyplot\n",
    "import pandas as pd\n",
    "from datetime import datetime\n",
    "from sklearn.preprocessing import MinMaxScaler\n",
    "from sklearn.preprocessing import LabelEncoder\n",
    "from sklearn.metrics import mean_squared_error\n",
    "from keras.models import Sequential\n",
    "from keras.layers import Dense\n",
    "from keras.layers import LSTM\n",
    "import plotly.offline as py\n",
    "import plotly.graph_objs as go\n",
    "import numpy as np\n",
    "import seaborn as sns\n",
    "py.init_notebook_mode(connected=True)\n",
    "%matplotlib inline"
   ]
  },
  {
   "cell_type": "markdown",
   "metadata": {
    "_cell_guid": "c1475f28-8326-4e08-b89e-6d2ba1a3a20d",
    "_uuid": "40cc3e9db110c4de4eff941912212060ea97da05"
   },
   "source": [
    "#### Use Quandl api to get BTC/USD data from kraken exchange"
   ]
  },
  {
   "cell_type": "code",
   "execution_count": 104,
   "metadata": {
    "_cell_guid": "45e392f6-5787-408b-b22a-5bf9fc834be0",
    "_uuid": "79c4ff6143a459e824dc025e2068bf18c5eedc35",
    "collapsed": true
   },
   "outputs": [],
   "source": [
    "#import quandl\n",
    "#data = quandl.get('BCHARTS/KRAKENUSD', returns='pandas')"
   ]
  },
  {
   "cell_type": "markdown",
   "metadata": {
    "_cell_guid": "7ef19ece-0947-4006-97f4-052aa6f62f52",
    "_uuid": "910ebe956b1740ec5831482ab179538df6d32b49"
   },
   "source": [
    "#### Read data set"
   ]
  },
  {
   "cell_type": "code",
   "execution_count": 110,
   "metadata": {
    "_cell_guid": "a18cd3ab-5312-4f8d-b6f9-3ba3c24a6f2a",
    "_uuid": "37738a19100d498fa63ad2401e66edc3d917b121",
    "scrolled": true
   },
   "outputs": [
    {
     "name": "stdout",
     "output_type": "stream",
     "text": [
      "        stamp    price\n",
      "0    20180303  11366.2\n",
      "1    20180302  11295.0\n",
      "2    20180301  11079.9\n",
      "3    20180228  10517.8\n",
      "4    20180227  10747.0\n",
      "5    20180226  10299.2\n",
      "6    20180225   9498.3\n",
      "7    20180224   9721.0\n",
      "8    20180223  10109.8\n",
      "9    20180222   9847.6\n",
      "10   20180221  10595.5\n",
      "11   20180220  11109.2\n",
      "12   20180219  11575.0\n",
      "13   20180218  10471.1\n",
      "14   20180217  10626.2\n",
      "15   20180216  10710.0\n",
      "16   20180215   9826.5\n",
      "17   20180214   9313.0\n",
      "18   20180213   8830.0\n",
      "19   20180212   8677.0\n",
      "20   20180211   8457.0\n",
      "21   20180210   7924.0\n",
      "22   20180209   8972.6\n",
      "23   20180208   8015.0\n",
      "24   20180207   8274.9\n",
      "25   20180206   7694.0\n",
      "26   20180205   5971.4\n",
      "27   20180204   8243.0\n",
      "28   20180203   9155.0\n",
      "29   20180202   8630.1\n",
      "..        ...      ...\n",
      "453  20161205    755.7\n",
      "454  20161204    757.6\n",
      "455  20161203    765.7\n",
      "456  20161202    759.6\n",
      "457  20161201    767.2\n",
      "458  20161130    747.1\n",
      "459  20161129    734.5\n",
      "460  20161128    730.9\n",
      "461  20161127    731.9\n",
      "462  20161126    733.9\n",
      "463  20161125    737.3\n",
      "464  20161124    733.5\n",
      "465  20161123    738.8\n",
      "466  20161122    745.1\n",
      "467  20161121    737.4\n",
      "468  20161120    734.0\n",
      "469  20161119    751.4\n",
      "470  20161118    748.4\n",
      "471  20161117    740.0\n",
      "472  20161116    747.6\n",
      "473  20161115    714.0\n",
      "474  20161114    711.1\n",
      "475  20161113    705.1\n",
      "476  20161112    694.0\n",
      "477  20161111    715.0\n",
      "478  20161110    714.5\n",
      "479  20161109    719.8\n",
      "480  20161108    715.2\n",
      "481  20161107    708.6\n",
      "482  20161106    711.1\n",
      "\n",
      "[483 rows x 2 columns]\n"
     ]
    }
   ],
   "source": [
    "data1 = pd.read_csv(filepath_or_buffer=\"bitcoinprices.txt\",names=['stamp', 'price'])\n",
    "print(data1)\n",
    "data2 = pd.read_csv(filepath_or_buffer=\"sentiment6.txt\",names=['stamp', 'sentiment'])\n",
    "# print(data2)\n"
   ]
  },
  {
   "cell_type": "markdown",
   "metadata": {
    "_cell_guid": "ca232c72-88f3-4a81-9693-a715655a46a9",
    "_uuid": "8f7fc9a995d3f5f71e2702ff052ae48e45b9f621"
   },
   "source": [
    "#### View data info"
   ]
  },
  {
   "cell_type": "code",
   "execution_count": 111,
   "metadata": {
    "_cell_guid": "c302db3f-be94-4b1d-9af9-39c0a20430f0",
    "_uuid": "32b9cc8ae0a4b7c136923f91bf24c7ea8880a45b"
   },
   "outputs": [
    {
     "name": "stdout",
     "output_type": "stream",
     "text": [
      "<class 'pandas.core.frame.DataFrame'>\n",
      "RangeIndex: 483 entries, 0 to 482\n",
      "Data columns (total 2 columns):\n",
      "stamp    483 non-null int64\n",
      "price    483 non-null float64\n",
      "dtypes: float64(1), int64(1)\n",
      "memory usage: 7.6 KB\n"
     ]
    }
   ],
   "source": [
    "data1.info()"
   ]
  },
  {
   "cell_type": "code",
   "execution_count": 112,
   "metadata": {},
   "outputs": [
    {
     "name": "stdout",
     "output_type": "stream",
     "text": [
      "<class 'pandas.core.frame.DataFrame'>\n",
      "RangeIndex: 60 entries, 0 to 59\n",
      "Data columns (total 2 columns):\n",
      "stamp        60 non-null int64\n",
      "sentiment    60 non-null float64\n",
      "dtypes: float64(1), int64(1)\n",
      "memory usage: 1.0 KB\n"
     ]
    }
   ],
   "source": [
    "data2.info()\n",
    "data2.dropna(axis=1,how='all') #Drop the columns where all elements are nan:\n",
    "# data2['sentiment'] = [float(x) for x in data.sentiment.values]\n",
    "for x in data2.sentiment:\n",
    "    dList = float(x)\n",
    "    type(dList)\n",
    "    \n"
   ]
  },
  {
   "cell_type": "markdown",
   "metadata": {
    "_cell_guid": "139fc78a-7e77-417e-a8cc-02e9728245a3",
    "_uuid": "1a226a0d76f4e0c09b32d53da222d71a56397ccf"
   },
   "source": [
    "#### View data rows"
   ]
  },
  {
   "cell_type": "code",
   "execution_count": 113,
   "metadata": {
    "_cell_guid": "ebc65085-628d-4b41-82c0-a86d46fbee02",
    "_uuid": "69b388872884bc1f09877b325ba5d8d09767decb"
   },
   "outputs": [
    {
     "data": {
      "text/html": [
       "<div>\n",
       "<style>\n",
       "    .dataframe thead tr:only-child th {\n",
       "        text-align: right;\n",
       "    }\n",
       "\n",
       "    .dataframe thead th {\n",
       "        text-align: left;\n",
       "    }\n",
       "\n",
       "    .dataframe tbody tr th {\n",
       "        vertical-align: top;\n",
       "    }\n",
       "</style>\n",
       "<table border=\"1\" class=\"dataframe\">\n",
       "  <thead>\n",
       "    <tr style=\"text-align: right;\">\n",
       "      <th></th>\n",
       "      <th>stamp</th>\n",
       "      <th>price</th>\n",
       "    </tr>\n",
       "  </thead>\n",
       "  <tbody>\n",
       "    <tr>\n",
       "      <th>0</th>\n",
       "      <td>20180303</td>\n",
       "      <td>11366.2</td>\n",
       "    </tr>\n",
       "    <tr>\n",
       "      <th>1</th>\n",
       "      <td>20180302</td>\n",
       "      <td>11295.0</td>\n",
       "    </tr>\n",
       "    <tr>\n",
       "      <th>2</th>\n",
       "      <td>20180301</td>\n",
       "      <td>11079.9</td>\n",
       "    </tr>\n",
       "    <tr>\n",
       "      <th>3</th>\n",
       "      <td>20180228</td>\n",
       "      <td>10517.8</td>\n",
       "    </tr>\n",
       "    <tr>\n",
       "      <th>4</th>\n",
       "      <td>20180227</td>\n",
       "      <td>10747.0</td>\n",
       "    </tr>\n",
       "  </tbody>\n",
       "</table>\n",
       "</div>"
      ],
      "text/plain": [
       "      stamp    price\n",
       "0  20180303  11366.2\n",
       "1  20180302  11295.0\n",
       "2  20180301  11079.9\n",
       "3  20180228  10517.8\n",
       "4  20180227  10747.0"
      ]
     },
     "execution_count": 113,
     "metadata": {},
     "output_type": "execute_result"
    }
   ],
   "source": [
    "data1.head()"
   ]
  },
  {
   "cell_type": "code",
   "execution_count": 114,
   "metadata": {},
   "outputs": [
    {
     "data": {
      "text/html": [
       "<div>\n",
       "<style>\n",
       "    .dataframe thead tr:only-child th {\n",
       "        text-align: right;\n",
       "    }\n",
       "\n",
       "    .dataframe thead th {\n",
       "        text-align: left;\n",
       "    }\n",
       "\n",
       "    .dataframe tbody tr th {\n",
       "        vertical-align: top;\n",
       "    }\n",
       "</style>\n",
       "<table border=\"1\" class=\"dataframe\">\n",
       "  <thead>\n",
       "    <tr style=\"text-align: right;\">\n",
       "      <th></th>\n",
       "      <th>stamp</th>\n",
       "      <th>sentiment</th>\n",
       "    </tr>\n",
       "  </thead>\n",
       "  <tbody>\n",
       "    <tr>\n",
       "      <th>0</th>\n",
       "      <td>20180303</td>\n",
       "      <td>0.276879</td>\n",
       "    </tr>\n",
       "    <tr>\n",
       "      <th>1</th>\n",
       "      <td>20180302</td>\n",
       "      <td>0.276879</td>\n",
       "    </tr>\n",
       "    <tr>\n",
       "      <th>2</th>\n",
       "      <td>20180301</td>\n",
       "      <td>0.276879</td>\n",
       "    </tr>\n",
       "    <tr>\n",
       "      <th>3</th>\n",
       "      <td>20180228</td>\n",
       "      <td>0.187641</td>\n",
       "    </tr>\n",
       "    <tr>\n",
       "      <th>4</th>\n",
       "      <td>20180227</td>\n",
       "      <td>0.251219</td>\n",
       "    </tr>\n",
       "  </tbody>\n",
       "</table>\n",
       "</div>"
      ],
      "text/plain": [
       "      stamp  sentiment\n",
       "0  20180303   0.276879\n",
       "1  20180302   0.276879\n",
       "2  20180301   0.276879\n",
       "3  20180228   0.187641\n",
       "4  20180227   0.251219"
      ]
     },
     "execution_count": 114,
     "metadata": {},
     "output_type": "execute_result"
    }
   ],
   "source": [
    "data2.head()"
   ]
  },
  {
   "cell_type": "markdown",
   "metadata": {
    "_cell_guid": "6a41c5d5-7eb7-4e91-9bea-5c87c8eb16d3",
    "_uuid": "6cbbeb2df12a04da539508663f080d647180081e"
   },
   "source": [
    "#### Join on data frame"
   ]
  },
  {
   "cell_type": "code",
   "execution_count": 115,
   "metadata": {
    "_cell_guid": "e5d3d0ae-5d5e-4953-b7df-4ee3bd77d822",
    "_uuid": "e2aaf99d1bcb8989a2205e194f228d0160101309"
   },
   "outputs": [],
   "source": [
    "data = pd.merge(data1,data2, on='stamp', how='inner')"
   ]
  },
  {
   "cell_type": "code",
   "execution_count": 116,
   "metadata": {},
   "outputs": [
    {
     "name": "stdout",
     "output_type": "stream",
     "text": [
      "<class 'pandas.core.frame.DataFrame'>\n",
      "Int64Index: 60 entries, 0 to 59\n",
      "Data columns (total 3 columns):\n",
      "stamp        60 non-null int64\n",
      "price        60 non-null float64\n",
      "sentiment    60 non-null float64\n",
      "dtypes: float64(2), int64(1)\n",
      "memory usage: 1.9 KB\n"
     ]
    }
   ],
   "source": [
    "data.info()"
   ]
  },
  {
   "cell_type": "code",
   "execution_count": 117,
   "metadata": {
    "scrolled": true
   },
   "outputs": [
    {
     "data": {
      "text/html": [
       "<div>\n",
       "<style>\n",
       "    .dataframe thead tr:only-child th {\n",
       "        text-align: right;\n",
       "    }\n",
       "\n",
       "    .dataframe thead th {\n",
       "        text-align: left;\n",
       "    }\n",
       "\n",
       "    .dataframe tbody tr th {\n",
       "        vertical-align: top;\n",
       "    }\n",
       "</style>\n",
       "<table border=\"1\" class=\"dataframe\">\n",
       "  <thead>\n",
       "    <tr style=\"text-align: right;\">\n",
       "      <th></th>\n",
       "      <th>stamp</th>\n",
       "      <th>price</th>\n",
       "      <th>sentiment</th>\n",
       "    </tr>\n",
       "  </thead>\n",
       "  <tbody>\n",
       "    <tr>\n",
       "      <th>0</th>\n",
       "      <td>20180303</td>\n",
       "      <td>11366.2</td>\n",
       "      <td>0.276879</td>\n",
       "    </tr>\n",
       "    <tr>\n",
       "      <th>1</th>\n",
       "      <td>20180302</td>\n",
       "      <td>11295.0</td>\n",
       "      <td>0.276879</td>\n",
       "    </tr>\n",
       "    <tr>\n",
       "      <th>2</th>\n",
       "      <td>20180301</td>\n",
       "      <td>11079.9</td>\n",
       "      <td>0.276879</td>\n",
       "    </tr>\n",
       "    <tr>\n",
       "      <th>3</th>\n",
       "      <td>20180228</td>\n",
       "      <td>10517.8</td>\n",
       "      <td>0.187641</td>\n",
       "    </tr>\n",
       "    <tr>\n",
       "      <th>4</th>\n",
       "      <td>20180227</td>\n",
       "      <td>10747.0</td>\n",
       "      <td>0.251219</td>\n",
       "    </tr>\n",
       "    <tr>\n",
       "      <th>5</th>\n",
       "      <td>20180226</td>\n",
       "      <td>10299.2</td>\n",
       "      <td>0.204704</td>\n",
       "    </tr>\n",
       "    <tr>\n",
       "      <th>6</th>\n",
       "      <td>20180225</td>\n",
       "      <td>9498.3</td>\n",
       "      <td>0.144521</td>\n",
       "    </tr>\n",
       "    <tr>\n",
       "      <th>7</th>\n",
       "      <td>20180224</td>\n",
       "      <td>9721.0</td>\n",
       "      <td>0.112681</td>\n",
       "    </tr>\n",
       "    <tr>\n",
       "      <th>8</th>\n",
       "      <td>20180223</td>\n",
       "      <td>10109.8</td>\n",
       "      <td>0.340230</td>\n",
       "    </tr>\n",
       "    <tr>\n",
       "      <th>9</th>\n",
       "      <td>20180222</td>\n",
       "      <td>9847.6</td>\n",
       "      <td>0.350790</td>\n",
       "    </tr>\n",
       "    <tr>\n",
       "      <th>10</th>\n",
       "      <td>20180221</td>\n",
       "      <td>10595.5</td>\n",
       "      <td>0.280539</td>\n",
       "    </tr>\n",
       "    <tr>\n",
       "      <th>11</th>\n",
       "      <td>20180220</td>\n",
       "      <td>11109.2</td>\n",
       "      <td>0.237969</td>\n",
       "    </tr>\n",
       "    <tr>\n",
       "      <th>12</th>\n",
       "      <td>20180219</td>\n",
       "      <td>11575.0</td>\n",
       "      <td>0.265244</td>\n",
       "    </tr>\n",
       "    <tr>\n",
       "      <th>13</th>\n",
       "      <td>20180218</td>\n",
       "      <td>10471.1</td>\n",
       "      <td>0.137334</td>\n",
       "    </tr>\n",
       "    <tr>\n",
       "      <th>14</th>\n",
       "      <td>20180217</td>\n",
       "      <td>10626.2</td>\n",
       "      <td>0.296954</td>\n",
       "    </tr>\n",
       "    <tr>\n",
       "      <th>15</th>\n",
       "      <td>20180216</td>\n",
       "      <td>10710.0</td>\n",
       "      <td>0.292768</td>\n",
       "    </tr>\n",
       "    <tr>\n",
       "      <th>16</th>\n",
       "      <td>20180215</td>\n",
       "      <td>9826.5</td>\n",
       "      <td>0.368447</td>\n",
       "    </tr>\n",
       "    <tr>\n",
       "      <th>17</th>\n",
       "      <td>20180214</td>\n",
       "      <td>9313.0</td>\n",
       "      <td>0.247183</td>\n",
       "    </tr>\n",
       "    <tr>\n",
       "      <th>18</th>\n",
       "      <td>20180213</td>\n",
       "      <td>8830.0</td>\n",
       "      <td>0.144095</td>\n",
       "    </tr>\n",
       "    <tr>\n",
       "      <th>19</th>\n",
       "      <td>20180212</td>\n",
       "      <td>8677.0</td>\n",
       "      <td>0.199033</td>\n",
       "    </tr>\n",
       "    <tr>\n",
       "      <th>20</th>\n",
       "      <td>20180211</td>\n",
       "      <td>8457.0</td>\n",
       "      <td>0.161229</td>\n",
       "    </tr>\n",
       "    <tr>\n",
       "      <th>21</th>\n",
       "      <td>20180210</td>\n",
       "      <td>7924.0</td>\n",
       "      <td>0.237978</td>\n",
       "    </tr>\n",
       "    <tr>\n",
       "      <th>22</th>\n",
       "      <td>20180209</td>\n",
       "      <td>8972.6</td>\n",
       "      <td>0.393733</td>\n",
       "    </tr>\n",
       "    <tr>\n",
       "      <th>23</th>\n",
       "      <td>20180208</td>\n",
       "      <td>8015.0</td>\n",
       "      <td>0.286443</td>\n",
       "    </tr>\n",
       "    <tr>\n",
       "      <th>24</th>\n",
       "      <td>20180207</td>\n",
       "      <td>8274.9</td>\n",
       "      <td>0.119157</td>\n",
       "    </tr>\n",
       "    <tr>\n",
       "      <th>25</th>\n",
       "      <td>20180206</td>\n",
       "      <td>7694.0</td>\n",
       "      <td>0.261892</td>\n",
       "    </tr>\n",
       "    <tr>\n",
       "      <th>26</th>\n",
       "      <td>20180205</td>\n",
       "      <td>5971.4</td>\n",
       "      <td>0.192085</td>\n",
       "    </tr>\n",
       "    <tr>\n",
       "      <th>27</th>\n",
       "      <td>20180204</td>\n",
       "      <td>8243.0</td>\n",
       "      <td>0.234091</td>\n",
       "    </tr>\n",
       "    <tr>\n",
       "      <th>28</th>\n",
       "      <td>20180203</td>\n",
       "      <td>9155.0</td>\n",
       "      <td>0.184390</td>\n",
       "    </tr>\n",
       "    <tr>\n",
       "      <th>29</th>\n",
       "      <td>20180202</td>\n",
       "      <td>8630.1</td>\n",
       "      <td>0.322920</td>\n",
       "    </tr>\n",
       "    <tr>\n",
       "      <th>30</th>\n",
       "      <td>20180201</td>\n",
       "      <td>8384.9</td>\n",
       "      <td>0.218033</td>\n",
       "    </tr>\n",
       "    <tr>\n",
       "      <th>31</th>\n",
       "      <td>20180131</td>\n",
       "      <td>10067.9</td>\n",
       "      <td>0.124864</td>\n",
       "    </tr>\n",
       "    <tr>\n",
       "      <th>32</th>\n",
       "      <td>20180130</td>\n",
       "      <td>10148.9</td>\n",
       "      <td>0.310559</td>\n",
       "    </tr>\n",
       "    <tr>\n",
       "      <th>33</th>\n",
       "      <td>20180129</td>\n",
       "      <td>10984.1</td>\n",
       "      <td>0.296188</td>\n",
       "    </tr>\n",
       "    <tr>\n",
       "      <th>34</th>\n",
       "      <td>20180128</td>\n",
       "      <td>11054.0</td>\n",
       "      <td>0.385553</td>\n",
       "    </tr>\n",
       "    <tr>\n",
       "      <th>35</th>\n",
       "      <td>20180127</td>\n",
       "      <td>11304.0</td>\n",
       "      <td>0.136945</td>\n",
       "    </tr>\n",
       "    <tr>\n",
       "      <th>36</th>\n",
       "      <td>20180126</td>\n",
       "      <td>11154.0</td>\n",
       "      <td>0.287123</td>\n",
       "    </tr>\n",
       "    <tr>\n",
       "      <th>37</th>\n",
       "      <td>20180125</td>\n",
       "      <td>11055.0</td>\n",
       "      <td>0.234055</td>\n",
       "    </tr>\n",
       "    <tr>\n",
       "      <th>38</th>\n",
       "      <td>20180124</td>\n",
       "      <td>11437.3</td>\n",
       "      <td>0.144836</td>\n",
       "    </tr>\n",
       "    <tr>\n",
       "      <th>39</th>\n",
       "      <td>20180123</td>\n",
       "      <td>10919.9</td>\n",
       "      <td>0.212877</td>\n",
       "    </tr>\n",
       "    <tr>\n",
       "      <th>40</th>\n",
       "      <td>20180122</td>\n",
       "      <td>10400.0</td>\n",
       "      <td>0.238852</td>\n",
       "    </tr>\n",
       "    <tr>\n",
       "      <th>41</th>\n",
       "      <td>20180121</td>\n",
       "      <td>11583.5</td>\n",
       "      <td>0.150904</td>\n",
       "    </tr>\n",
       "    <tr>\n",
       "      <th>42</th>\n",
       "      <td>20180120</td>\n",
       "      <td>11890.0</td>\n",
       "      <td>0.331066</td>\n",
       "    </tr>\n",
       "    <tr>\n",
       "      <th>43</th>\n",
       "      <td>20180119</td>\n",
       "      <td>12550.0</td>\n",
       "      <td>0.351066</td>\n",
       "    </tr>\n",
       "    <tr>\n",
       "      <th>44</th>\n",
       "      <td>20180118</td>\n",
       "      <td>11398.3</td>\n",
       "      <td>0.142976</td>\n",
       "    </tr>\n",
       "    <tr>\n",
       "      <th>45</th>\n",
       "      <td>20180117</td>\n",
       "      <td>10860.0</td>\n",
       "      <td>0.016739</td>\n",
       "    </tr>\n",
       "    <tr>\n",
       "      <th>46</th>\n",
       "      <td>20180116</td>\n",
       "      <td>11220.0</td>\n",
       "      <td>0.322141</td>\n",
       "    </tr>\n",
       "    <tr>\n",
       "      <th>47</th>\n",
       "      <td>20180115</td>\n",
       "      <td>12864.0</td>\n",
       "      <td>0.267907</td>\n",
       "    </tr>\n",
       "    <tr>\n",
       "      <th>48</th>\n",
       "      <td>20180114</td>\n",
       "      <td>13653.1</td>\n",
       "      <td>0.325023</td>\n",
       "    </tr>\n",
       "    <tr>\n",
       "      <th>49</th>\n",
       "      <td>20180113</td>\n",
       "      <td>13768.0</td>\n",
       "      <td>0.102599</td>\n",
       "    </tr>\n",
       "    <tr>\n",
       "      <th>50</th>\n",
       "      <td>20180112</td>\n",
       "      <td>14368.0</td>\n",
       "      <td>0.206083</td>\n",
       "    </tr>\n",
       "    <tr>\n",
       "      <th>51</th>\n",
       "      <td>20180111</td>\n",
       "      <td>13724.2</td>\n",
       "      <td>0.239332</td>\n",
       "    </tr>\n",
       "    <tr>\n",
       "      <th>52</th>\n",
       "      <td>20180110</td>\n",
       "      <td>13635.6</td>\n",
       "      <td>0.164729</td>\n",
       "    </tr>\n",
       "    <tr>\n",
       "      <th>53</th>\n",
       "      <td>20180109</td>\n",
       "      <td>14169.0</td>\n",
       "      <td>0.266397</td>\n",
       "    </tr>\n",
       "    <tr>\n",
       "      <th>54</th>\n",
       "      <td>20180108</td>\n",
       "      <td>15186.0</td>\n",
       "      <td>0.197478</td>\n",
       "    </tr>\n",
       "    <tr>\n",
       "      <th>55</th>\n",
       "      <td>20180107</td>\n",
       "      <td>15927.9</td>\n",
       "      <td>0.108521</td>\n",
       "    </tr>\n",
       "    <tr>\n",
       "      <th>56</th>\n",
       "      <td>20180106</td>\n",
       "      <td>16702.4</td>\n",
       "      <td>0.382211</td>\n",
       "    </tr>\n",
       "    <tr>\n",
       "      <th>57</th>\n",
       "      <td>20180105</td>\n",
       "      <td>16528.6</td>\n",
       "      <td>0.168115</td>\n",
       "    </tr>\n",
       "    <tr>\n",
       "      <th>58</th>\n",
       "      <td>20180104</td>\n",
       "      <td>14930.0</td>\n",
       "      <td>0.402441</td>\n",
       "    </tr>\n",
       "    <tr>\n",
       "      <th>59</th>\n",
       "      <td>20180103</td>\n",
       "      <td>15050.0</td>\n",
       "      <td>0.121079</td>\n",
       "    </tr>\n",
       "  </tbody>\n",
       "</table>\n",
       "</div>"
      ],
      "text/plain": [
       "       stamp    price  sentiment\n",
       "0   20180303  11366.2   0.276879\n",
       "1   20180302  11295.0   0.276879\n",
       "2   20180301  11079.9   0.276879\n",
       "3   20180228  10517.8   0.187641\n",
       "4   20180227  10747.0   0.251219\n",
       "5   20180226  10299.2   0.204704\n",
       "6   20180225   9498.3   0.144521\n",
       "7   20180224   9721.0   0.112681\n",
       "8   20180223  10109.8   0.340230\n",
       "9   20180222   9847.6   0.350790\n",
       "10  20180221  10595.5   0.280539\n",
       "11  20180220  11109.2   0.237969\n",
       "12  20180219  11575.0   0.265244\n",
       "13  20180218  10471.1   0.137334\n",
       "14  20180217  10626.2   0.296954\n",
       "15  20180216  10710.0   0.292768\n",
       "16  20180215   9826.5   0.368447\n",
       "17  20180214   9313.0   0.247183\n",
       "18  20180213   8830.0   0.144095\n",
       "19  20180212   8677.0   0.199033\n",
       "20  20180211   8457.0   0.161229\n",
       "21  20180210   7924.0   0.237978\n",
       "22  20180209   8972.6   0.393733\n",
       "23  20180208   8015.0   0.286443\n",
       "24  20180207   8274.9   0.119157\n",
       "25  20180206   7694.0   0.261892\n",
       "26  20180205   5971.4   0.192085\n",
       "27  20180204   8243.0   0.234091\n",
       "28  20180203   9155.0   0.184390\n",
       "29  20180202   8630.1   0.322920\n",
       "30  20180201   8384.9   0.218033\n",
       "31  20180131  10067.9   0.124864\n",
       "32  20180130  10148.9   0.310559\n",
       "33  20180129  10984.1   0.296188\n",
       "34  20180128  11054.0   0.385553\n",
       "35  20180127  11304.0   0.136945\n",
       "36  20180126  11154.0   0.287123\n",
       "37  20180125  11055.0   0.234055\n",
       "38  20180124  11437.3   0.144836\n",
       "39  20180123  10919.9   0.212877\n",
       "40  20180122  10400.0   0.238852\n",
       "41  20180121  11583.5   0.150904\n",
       "42  20180120  11890.0   0.331066\n",
       "43  20180119  12550.0   0.351066\n",
       "44  20180118  11398.3   0.142976\n",
       "45  20180117  10860.0   0.016739\n",
       "46  20180116  11220.0   0.322141\n",
       "47  20180115  12864.0   0.267907\n",
       "48  20180114  13653.1   0.325023\n",
       "49  20180113  13768.0   0.102599\n",
       "50  20180112  14368.0   0.206083\n",
       "51  20180111  13724.2   0.239332\n",
       "52  20180110  13635.6   0.164729\n",
       "53  20180109  14169.0   0.266397\n",
       "54  20180108  15186.0   0.197478\n",
       "55  20180107  15927.9   0.108521\n",
       "56  20180106  16702.4   0.382211\n",
       "57  20180105  16528.6   0.168115\n",
       "58  20180104  14930.0   0.402441\n",
       "59  20180103  15050.0   0.121079"
      ]
     },
     "execution_count": 117,
     "metadata": {},
     "output_type": "execute_result"
    }
   ],
   "source": [
    "data.describe()\n",
    "data"
   ]
  },
  {
   "cell_type": "code",
   "execution_count": 118,
   "metadata": {},
   "outputs": [
    {
     "data": {
      "text/html": [
       "<div>\n",
       "<style>\n",
       "    .dataframe thead tr:only-child th {\n",
       "        text-align: right;\n",
       "    }\n",
       "\n",
       "    .dataframe thead th {\n",
       "        text-align: left;\n",
       "    }\n",
       "\n",
       "    .dataframe tbody tr th {\n",
       "        vertical-align: top;\n",
       "    }\n",
       "</style>\n",
       "<table border=\"1\" class=\"dataframe\">\n",
       "  <thead>\n",
       "    <tr style=\"text-align: right;\">\n",
       "      <th></th>\n",
       "      <th>stamp</th>\n",
       "      <th>price</th>\n",
       "      <th>sentiment</th>\n",
       "    </tr>\n",
       "  </thead>\n",
       "  <tbody>\n",
       "    <tr>\n",
       "      <th>55</th>\n",
       "      <td>2018-01-07</td>\n",
       "      <td>15927.9</td>\n",
       "      <td>0.108521</td>\n",
       "    </tr>\n",
       "    <tr>\n",
       "      <th>56</th>\n",
       "      <td>2018-01-06</td>\n",
       "      <td>16702.4</td>\n",
       "      <td>0.382211</td>\n",
       "    </tr>\n",
       "    <tr>\n",
       "      <th>57</th>\n",
       "      <td>2018-01-05</td>\n",
       "      <td>16528.6</td>\n",
       "      <td>0.168115</td>\n",
       "    </tr>\n",
       "    <tr>\n",
       "      <th>58</th>\n",
       "      <td>2018-01-04</td>\n",
       "      <td>14930.0</td>\n",
       "      <td>0.402441</td>\n",
       "    </tr>\n",
       "    <tr>\n",
       "      <th>59</th>\n",
       "      <td>2018-01-03</td>\n",
       "      <td>15050.0</td>\n",
       "      <td>0.121079</td>\n",
       "    </tr>\n",
       "  </tbody>\n",
       "</table>\n",
       "</div>"
      ],
      "text/plain": [
       "        stamp    price  sentiment\n",
       "55 2018-01-07  15927.9   0.108521\n",
       "56 2018-01-06  16702.4   0.382211\n",
       "57 2018-01-05  16528.6   0.168115\n",
       "58 2018-01-04  14930.0   0.402441\n",
       "59 2018-01-03  15050.0   0.121079"
      ]
     },
     "execution_count": 118,
     "metadata": {},
     "output_type": "execute_result"
    }
   ],
   "source": [
    "data['stamp'] = pd.to_datetime(data['stamp'].apply(str),format='%Y%m%d')\n",
    "#data = data.sort_values(by='stamp')\n",
    "data.tail()"
   ]
  },
  {
   "cell_type": "markdown",
   "metadata": {
    "_cell_guid": "41e3ec1b-2d82-407e-b0f8-7a1f62ccb0d9",
    "_uuid": "653f159c1880f0c22b7877430000c4e81f1285c3"
   },
   "source": [
    "#### Plot line graph base on `Weighted Price`"
   ]
  },
  {
   "cell_type": "code",
   "execution_count": 119,
   "metadata": {
    "_cell_guid": "46292551-6d2c-4e48-b5a6-4ab6cd55bea7",
    "_uuid": "35c98b25a65f47f7851d4b2729b77ec612146435"
   },
   "outputs": [
    {
     "data": {
      "application/vnd.plotly.v1+json": {
       "data": [
        {
         "name": "Price",
         "type": "scatter",
         "x": [
          "2018-03-03",
          "2018-03-02",
          "2018-03-01",
          "2018-02-28",
          "2018-02-27",
          "2018-02-26",
          "2018-02-25",
          "2018-02-24",
          "2018-02-23",
          "2018-02-22",
          "2018-02-21",
          "2018-02-20",
          "2018-02-19",
          "2018-02-18",
          "2018-02-17",
          "2018-02-16",
          "2018-02-15",
          "2018-02-14",
          "2018-02-13",
          "2018-02-12",
          "2018-02-11",
          "2018-02-10",
          "2018-02-09",
          "2018-02-08",
          "2018-02-07",
          "2018-02-06",
          "2018-02-05",
          "2018-02-04",
          "2018-02-03",
          "2018-02-02",
          "2018-02-01",
          "2018-01-31",
          "2018-01-30",
          "2018-01-29",
          "2018-01-28",
          "2018-01-27",
          "2018-01-26",
          "2018-01-25",
          "2018-01-24",
          "2018-01-23",
          "2018-01-22",
          "2018-01-21",
          "2018-01-20",
          "2018-01-19",
          "2018-01-18",
          "2018-01-17",
          "2018-01-16",
          "2018-01-15",
          "2018-01-14",
          "2018-01-13",
          "2018-01-12",
          "2018-01-11",
          "2018-01-10",
          "2018-01-09",
          "2018-01-08",
          "2018-01-07",
          "2018-01-06",
          "2018-01-05",
          "2018-01-04",
          "2018-01-03"
         ],
         "y": [
          11366.2,
          11295,
          11079.9,
          10517.8,
          10747,
          10299.2,
          9498.3,
          9721,
          10109.8,
          9847.6,
          10595.5,
          11109.2,
          11575,
          10471.1,
          10626.2,
          10710,
          9826.5,
          9313,
          8830,
          8677,
          8457,
          7924,
          8972.6,
          8015,
          8274.9,
          7694,
          5971.4,
          8243,
          9155,
          8630.1,
          8384.9,
          10067.9,
          10148.9,
          10984.1,
          11054,
          11304,
          11154,
          11055,
          11437.3,
          10919.9,
          10400,
          11583.5,
          11890,
          12550,
          11398.3,
          10860,
          11220,
          12864,
          13653.1,
          13768,
          14368,
          13724.2,
          13635.6,
          14169,
          15186,
          15927.9,
          16702.4,
          16528.6,
          14930,
          15050
         ]
        }
       ],
       "layout": {}
      },
      "text/html": [
       "<div id=\"49a7937c-9d9f-47b7-9348-2dfcaaf44b12\" style=\"height: 525px; width: 100%;\" class=\"plotly-graph-div\"></div><script type=\"text/javascript\">require([\"plotly\"], function(Plotly) { window.PLOTLYENV=window.PLOTLYENV || {};window.PLOTLYENV.BASE_URL=\"https://plot.ly\";Plotly.newPlot(\"49a7937c-9d9f-47b7-9348-2dfcaaf44b12\", [{\"type\": \"scatter\", \"x\": [\"2018-03-03\", \"2018-03-02\", \"2018-03-01\", \"2018-02-28\", \"2018-02-27\", \"2018-02-26\", \"2018-02-25\", \"2018-02-24\", \"2018-02-23\", \"2018-02-22\", \"2018-02-21\", \"2018-02-20\", \"2018-02-19\", \"2018-02-18\", \"2018-02-17\", \"2018-02-16\", \"2018-02-15\", \"2018-02-14\", \"2018-02-13\", \"2018-02-12\", \"2018-02-11\", \"2018-02-10\", \"2018-02-09\", \"2018-02-08\", \"2018-02-07\", \"2018-02-06\", \"2018-02-05\", \"2018-02-04\", \"2018-02-03\", \"2018-02-02\", \"2018-02-01\", \"2018-01-31\", \"2018-01-30\", \"2018-01-29\", \"2018-01-28\", \"2018-01-27\", \"2018-01-26\", \"2018-01-25\", \"2018-01-24\", \"2018-01-23\", \"2018-01-22\", \"2018-01-21\", \"2018-01-20\", \"2018-01-19\", \"2018-01-18\", \"2018-01-17\", \"2018-01-16\", \"2018-01-15\", \"2018-01-14\", \"2018-01-13\", \"2018-01-12\", \"2018-01-11\", \"2018-01-10\", \"2018-01-09\", \"2018-01-08\", \"2018-01-07\", \"2018-01-06\", \"2018-01-05\", \"2018-01-04\", \"2018-01-03\"], \"y\": [11366.2, 11295.0, 11079.9, 10517.8, 10747.0, 10299.2, 9498.3, 9721.0, 10109.8, 9847.6, 10595.5, 11109.2, 11575.0, 10471.1, 10626.2, 10710.0, 9826.5, 9313.0, 8830.0, 8677.0, 8457.0, 7924.0, 8972.6, 8015.0, 8274.9, 7694.0, 5971.4, 8243.0, 9155.0, 8630.1, 8384.9, 10067.9, 10148.9, 10984.1, 11054.0, 11304.0, 11154.0, 11055.0, 11437.3, 10919.9, 10400.0, 11583.5, 11890.0, 12550.0, 11398.3, 10860.0, 11220.0, 12864.0, 13653.1, 13768.0, 14368.0, 13724.2, 13635.6, 14169.0, 15186.0, 15927.9, 16702.4, 16528.6, 14930.0, 15050.0], \"name\": \"Price\"}], {}, {\"showLink\": true, \"linkText\": \"Export to plot.ly\"})});</script>"
      ],
      "text/vnd.plotly.v1+html": [
       "<div id=\"49a7937c-9d9f-47b7-9348-2dfcaaf44b12\" style=\"height: 525px; width: 100%;\" class=\"plotly-graph-div\"></div><script type=\"text/javascript\">require([\"plotly\"], function(Plotly) { window.PLOTLYENV=window.PLOTLYENV || {};window.PLOTLYENV.BASE_URL=\"https://plot.ly\";Plotly.newPlot(\"49a7937c-9d9f-47b7-9348-2dfcaaf44b12\", [{\"type\": \"scatter\", \"x\": [\"2018-03-03\", \"2018-03-02\", \"2018-03-01\", \"2018-02-28\", \"2018-02-27\", \"2018-02-26\", \"2018-02-25\", \"2018-02-24\", \"2018-02-23\", \"2018-02-22\", \"2018-02-21\", \"2018-02-20\", \"2018-02-19\", \"2018-02-18\", \"2018-02-17\", \"2018-02-16\", \"2018-02-15\", \"2018-02-14\", \"2018-02-13\", \"2018-02-12\", \"2018-02-11\", \"2018-02-10\", \"2018-02-09\", \"2018-02-08\", \"2018-02-07\", \"2018-02-06\", \"2018-02-05\", \"2018-02-04\", \"2018-02-03\", \"2018-02-02\", \"2018-02-01\", \"2018-01-31\", \"2018-01-30\", \"2018-01-29\", \"2018-01-28\", \"2018-01-27\", \"2018-01-26\", \"2018-01-25\", \"2018-01-24\", \"2018-01-23\", \"2018-01-22\", \"2018-01-21\", \"2018-01-20\", \"2018-01-19\", \"2018-01-18\", \"2018-01-17\", \"2018-01-16\", \"2018-01-15\", \"2018-01-14\", \"2018-01-13\", \"2018-01-12\", \"2018-01-11\", \"2018-01-10\", \"2018-01-09\", \"2018-01-08\", \"2018-01-07\", \"2018-01-06\", \"2018-01-05\", \"2018-01-04\", \"2018-01-03\"], \"y\": [11366.2, 11295.0, 11079.9, 10517.8, 10747.0, 10299.2, 9498.3, 9721.0, 10109.8, 9847.6, 10595.5, 11109.2, 11575.0, 10471.1, 10626.2, 10710.0, 9826.5, 9313.0, 8830.0, 8677.0, 8457.0, 7924.0, 8972.6, 8015.0, 8274.9, 7694.0, 5971.4, 8243.0, 9155.0, 8630.1, 8384.9, 10067.9, 10148.9, 10984.1, 11054.0, 11304.0, 11154.0, 11055.0, 11437.3, 10919.9, 10400.0, 11583.5, 11890.0, 12550.0, 11398.3, 10860.0, 11220.0, 12864.0, 13653.1, 13768.0, 14368.0, 13724.2, 13635.6, 14169.0, 15186.0, 15927.9, 16702.4, 16528.6, 14930.0, 15050.0], \"name\": \"Price\"}], {}, {\"showLink\": true, \"linkText\": \"Export to plot.ly\"})});</script>"
      ]
     },
     "metadata": {},
     "output_type": "display_data"
    }
   ],
   "source": [
    "btc_trace = go.Scatter(x=data['stamp'], y=data['price'], name= 'Price')\n",
    "py.iplot([btc_trace])"
   ]
  },
  {
   "cell_type": "markdown",
   "metadata": {
    "_cell_guid": "246ce6ce-c93b-405a-87d8-0b590cb95adb",
    "_uuid": "d846d35a894a4b8f7f514708364a44e72aea382a"
   },
   "source": [
    "#### Fill value 0 data points on `Weighted Price` with NAN and then use ffill method to fill values"
   ]
  },
  {
   "cell_type": "code",
   "execution_count": 120,
   "metadata": {
    "_cell_guid": "3a513b31-fb03-430c-b477-04a2954e8fdf",
    "_uuid": "9f3be8345c5888078ee1bf14fe96f0e02dc0206f",
    "collapsed": true
   },
   "outputs": [],
   "source": [
    "data['price'].replace(0, np.nan, inplace=True)\n",
    "data['price'].fillna(method='ffill', inplace=True)"
   ]
  },
  {
   "cell_type": "markdown",
   "metadata": {
    "_cell_guid": "99f168ee-aca2-4940-90f6-9b6edbedb5b2",
    "_uuid": "30c6169b68d6a626834598465480d15aeba05fdc"
   },
   "source": [
    "#### Plot new line graph again on `Weighted Price` with newly filled values"
   ]
  },
  {
   "cell_type": "code",
   "execution_count": 121,
   "metadata": {
    "_cell_guid": "33b93385-590d-48d2-a9ff-2039b49d02a3",
    "_uuid": "c91bd913b17fbf6e3c197a22bbc2325ec154ce8b"
   },
   "outputs": [
    {
     "data": {
      "application/vnd.plotly.v1+json": {
       "data": [
        {
         "name": "Price",
         "type": "scatter",
         "x": [
          "2018-03-03",
          "2018-03-02",
          "2018-03-01",
          "2018-02-28",
          "2018-02-27",
          "2018-02-26",
          "2018-02-25",
          "2018-02-24",
          "2018-02-23",
          "2018-02-22",
          "2018-02-21",
          "2018-02-20",
          "2018-02-19",
          "2018-02-18",
          "2018-02-17",
          "2018-02-16",
          "2018-02-15",
          "2018-02-14",
          "2018-02-13",
          "2018-02-12",
          "2018-02-11",
          "2018-02-10",
          "2018-02-09",
          "2018-02-08",
          "2018-02-07",
          "2018-02-06",
          "2018-02-05",
          "2018-02-04",
          "2018-02-03",
          "2018-02-02",
          "2018-02-01",
          "2018-01-31",
          "2018-01-30",
          "2018-01-29",
          "2018-01-28",
          "2018-01-27",
          "2018-01-26",
          "2018-01-25",
          "2018-01-24",
          "2018-01-23",
          "2018-01-22",
          "2018-01-21",
          "2018-01-20",
          "2018-01-19",
          "2018-01-18",
          "2018-01-17",
          "2018-01-16",
          "2018-01-15",
          "2018-01-14",
          "2018-01-13",
          "2018-01-12",
          "2018-01-11",
          "2018-01-10",
          "2018-01-09",
          "2018-01-08",
          "2018-01-07",
          "2018-01-06",
          "2018-01-05",
          "2018-01-04",
          "2018-01-03"
         ],
         "y": [
          11366.2,
          11295,
          11079.9,
          10517.8,
          10747,
          10299.2,
          9498.3,
          9721,
          10109.8,
          9847.6,
          10595.5,
          11109.2,
          11575,
          10471.1,
          10626.2,
          10710,
          9826.5,
          9313,
          8830,
          8677,
          8457,
          7924,
          8972.6,
          8015,
          8274.9,
          7694,
          5971.4,
          8243,
          9155,
          8630.1,
          8384.9,
          10067.9,
          10148.9,
          10984.1,
          11054,
          11304,
          11154,
          11055,
          11437.3,
          10919.9,
          10400,
          11583.5,
          11890,
          12550,
          11398.3,
          10860,
          11220,
          12864,
          13653.1,
          13768,
          14368,
          13724.2,
          13635.6,
          14169,
          15186,
          15927.9,
          16702.4,
          16528.6,
          14930,
          15050
         ]
        }
       ],
       "layout": {}
      },
      "text/html": [
       "<div id=\"a811e78c-fb5e-44e9-a651-f02f4283b282\" style=\"height: 525px; width: 100%;\" class=\"plotly-graph-div\"></div><script type=\"text/javascript\">require([\"plotly\"], function(Plotly) { window.PLOTLYENV=window.PLOTLYENV || {};window.PLOTLYENV.BASE_URL=\"https://plot.ly\";Plotly.newPlot(\"a811e78c-fb5e-44e9-a651-f02f4283b282\", [{\"type\": \"scatter\", \"x\": [\"2018-03-03\", \"2018-03-02\", \"2018-03-01\", \"2018-02-28\", \"2018-02-27\", \"2018-02-26\", \"2018-02-25\", \"2018-02-24\", \"2018-02-23\", \"2018-02-22\", \"2018-02-21\", \"2018-02-20\", \"2018-02-19\", \"2018-02-18\", \"2018-02-17\", \"2018-02-16\", \"2018-02-15\", \"2018-02-14\", \"2018-02-13\", \"2018-02-12\", \"2018-02-11\", \"2018-02-10\", \"2018-02-09\", \"2018-02-08\", \"2018-02-07\", \"2018-02-06\", \"2018-02-05\", \"2018-02-04\", \"2018-02-03\", \"2018-02-02\", \"2018-02-01\", \"2018-01-31\", \"2018-01-30\", \"2018-01-29\", \"2018-01-28\", \"2018-01-27\", \"2018-01-26\", \"2018-01-25\", \"2018-01-24\", \"2018-01-23\", \"2018-01-22\", \"2018-01-21\", \"2018-01-20\", \"2018-01-19\", \"2018-01-18\", \"2018-01-17\", \"2018-01-16\", \"2018-01-15\", \"2018-01-14\", \"2018-01-13\", \"2018-01-12\", \"2018-01-11\", \"2018-01-10\", \"2018-01-09\", \"2018-01-08\", \"2018-01-07\", \"2018-01-06\", \"2018-01-05\", \"2018-01-04\", \"2018-01-03\"], \"y\": [11366.2, 11295.0, 11079.9, 10517.8, 10747.0, 10299.2, 9498.3, 9721.0, 10109.8, 9847.6, 10595.5, 11109.2, 11575.0, 10471.1, 10626.2, 10710.0, 9826.5, 9313.0, 8830.0, 8677.0, 8457.0, 7924.0, 8972.6, 8015.0, 8274.9, 7694.0, 5971.4, 8243.0, 9155.0, 8630.1, 8384.9, 10067.9, 10148.9, 10984.1, 11054.0, 11304.0, 11154.0, 11055.0, 11437.3, 10919.9, 10400.0, 11583.5, 11890.0, 12550.0, 11398.3, 10860.0, 11220.0, 12864.0, 13653.1, 13768.0, 14368.0, 13724.2, 13635.6, 14169.0, 15186.0, 15927.9, 16702.4, 16528.6, 14930.0, 15050.0], \"name\": \"Price\"}], {}, {\"showLink\": true, \"linkText\": \"Export to plot.ly\"})});</script>"
      ],
      "text/vnd.plotly.v1+html": [
       "<div id=\"a811e78c-fb5e-44e9-a651-f02f4283b282\" style=\"height: 525px; width: 100%;\" class=\"plotly-graph-div\"></div><script type=\"text/javascript\">require([\"plotly\"], function(Plotly) { window.PLOTLYENV=window.PLOTLYENV || {};window.PLOTLYENV.BASE_URL=\"https://plot.ly\";Plotly.newPlot(\"a811e78c-fb5e-44e9-a651-f02f4283b282\", [{\"type\": \"scatter\", \"x\": [\"2018-03-03\", \"2018-03-02\", \"2018-03-01\", \"2018-02-28\", \"2018-02-27\", \"2018-02-26\", \"2018-02-25\", \"2018-02-24\", \"2018-02-23\", \"2018-02-22\", \"2018-02-21\", \"2018-02-20\", \"2018-02-19\", \"2018-02-18\", \"2018-02-17\", \"2018-02-16\", \"2018-02-15\", \"2018-02-14\", \"2018-02-13\", \"2018-02-12\", \"2018-02-11\", \"2018-02-10\", \"2018-02-09\", \"2018-02-08\", \"2018-02-07\", \"2018-02-06\", \"2018-02-05\", \"2018-02-04\", \"2018-02-03\", \"2018-02-02\", \"2018-02-01\", \"2018-01-31\", \"2018-01-30\", \"2018-01-29\", \"2018-01-28\", \"2018-01-27\", \"2018-01-26\", \"2018-01-25\", \"2018-01-24\", \"2018-01-23\", \"2018-01-22\", \"2018-01-21\", \"2018-01-20\", \"2018-01-19\", \"2018-01-18\", \"2018-01-17\", \"2018-01-16\", \"2018-01-15\", \"2018-01-14\", \"2018-01-13\", \"2018-01-12\", \"2018-01-11\", \"2018-01-10\", \"2018-01-09\", \"2018-01-08\", \"2018-01-07\", \"2018-01-06\", \"2018-01-05\", \"2018-01-04\", \"2018-01-03\"], \"y\": [11366.2, 11295.0, 11079.9, 10517.8, 10747.0, 10299.2, 9498.3, 9721.0, 10109.8, 9847.6, 10595.5, 11109.2, 11575.0, 10471.1, 10626.2, 10710.0, 9826.5, 9313.0, 8830.0, 8677.0, 8457.0, 7924.0, 8972.6, 8015.0, 8274.9, 7694.0, 5971.4, 8243.0, 9155.0, 8630.1, 8384.9, 10067.9, 10148.9, 10984.1, 11054.0, 11304.0, 11154.0, 11055.0, 11437.3, 10919.9, 10400.0, 11583.5, 11890.0, 12550.0, 11398.3, 10860.0, 11220.0, 12864.0, 13653.1, 13768.0, 14368.0, 13724.2, 13635.6, 14169.0, 15186.0, 15927.9, 16702.4, 16528.6, 14930.0, 15050.0], \"name\": \"Price\"}], {}, {\"showLink\": true, \"linkText\": \"Export to plot.ly\"})});</script>"
      ]
     },
     "metadata": {},
     "output_type": "display_data"
    }
   ],
   "source": [
    "btc_trace = go.Scatter(x=data['stamp'], y=data['price'], name= 'Price')\n",
    "py.iplot([btc_trace])"
   ]
  },
  {
   "cell_type": "markdown",
   "metadata": {
    "_cell_guid": "40133528-c852-4ebe-b262-ddc553394ad3",
    "_uuid": "d986032a8c0d87513bd0ec3d5cb26c91906695a5"
   },
   "source": [
    "### Using `Weighted Price` as a feature to train the LSTM model "
   ]
  },
  {
   "cell_type": "markdown",
   "metadata": {
    "_cell_guid": "25360a06-b917-4c5b-9af1-e989668193c9",
    "_uuid": "12c5f6367744affa3469b9a67ba4aef88cc0bbab"
   },
   "source": [
    "#### Use MinMaxScaler to normalize `Weighted Price` to range from 0 to 1"
   ]
  },
  {
   "cell_type": "code",
   "execution_count": 122,
   "metadata": {
    "_cell_guid": "23dad7d9-c9dd-422d-b9be-3fdf17631277",
    "_uuid": "f284c809e79eaaa8d231415f90316bb9fe6cb504",
    "collapsed": true
   },
   "outputs": [],
   "source": [
    "from sklearn.preprocessing import MinMaxScaler\n",
    "values = data['price'].values.reshape(-1,1)\n",
    "sentiment = data['sentiment'].values.reshape(-1,1)\n",
    "values = values.astype('float32')\n",
    "sentiment = values.astype('float32')\n",
    "scaler = MinMaxScaler(feature_range=(0, 1))\n",
    "scaled = scaler.fit_transform(values)"
   ]
  },
  {
   "cell_type": "markdown",
   "metadata": {
    "_cell_guid": "8ec96ba5-4005-444a-ac65-a6211417d370",
    "_uuid": "28ff135df254c60c16f201664f70095366b7c876"
   },
   "source": [
    "#### Split 70% of data for training and 30% for testing"
   ]
  },
  {
   "cell_type": "code",
   "execution_count": 123,
   "metadata": {
    "_cell_guid": "52fe887e-e707-48f5-afb3-27a0cedf38fa",
    "_uuid": "9ee003e139d523e695c07370ecc057e61be183dc"
   },
   "outputs": [
    {
     "name": "stdout",
     "output_type": "stream",
     "text": [
      "42 18\n"
     ]
    }
   ],
   "source": [
    "train_size = int(len(scaled) * 0.7)\n",
    "test_size = len(scaled) - train_size\n",
    "train, test = scaled[0:train_size,:], scaled[train_size:len(scaled),:]\n",
    "print(len(train), len(test))\n",
    "split = train_size"
   ]
  },
  {
   "cell_type": "markdown",
   "metadata": {
    "_cell_guid": "c0b1a2fe-93e1-4dad-a121-2e132aa20f83",
    "_uuid": "79bcf4ebd0b148eb04625b1bb8167aab61e1892e"
   },
   "source": [
    "#### Create function for creating dataset with look back"
   ]
  },
  {
   "cell_type": "code",
   "execution_count": 124,
   "metadata": {
    "_cell_guid": "2f95fc03-1418-455c-b5ed-a1a6e22e97a7",
    "_uuid": "1c2d33296f3cbf17939a0f56b01e0bea007f8614",
    "collapsed": true
   },
   "outputs": [],
   "source": [
    "def create_dataset(dataset, look_back, sentiment):\n",
    "    dataX, dataY = [], []\n",
    "    for i in range(len(dataset) - look_back):\n",
    "        a = dataset[i:(i + look_back), 0]\n",
    "        np.append(a,sentiment[i])\n",
    "        dataX.append(a)\n",
    "        dataY.append(dataset[i + look_back, 0])\n",
    "    print(len(dataY))\n",
    "    return np.array(dataX), np.array(dataY)"
   ]
  },
  {
   "cell_type": "markdown",
   "metadata": {
    "_cell_guid": "da2d7810-5ddd-4f66-a288-a7ad4276bca3",
    "_uuid": "2f54261c39e80a64371754ae35f4d043dbb16974"
   },
   "source": [
    "#### Generate dataset for trainX, trainY, testX, testY"
   ]
  },
  {
   "cell_type": "code",
   "execution_count": 125,
   "metadata": {
    "_cell_guid": "d414263e-260e-4dc0-88b4-a5c5052c2551",
    "_uuid": "74236b094646cd0fa1d9b56ca31ff26b3c1ef79a"
   },
   "outputs": [
    {
     "name": "stdout",
     "output_type": "stream",
     "text": [
      "41\n",
      "17\n"
     ]
    }
   ],
   "source": [
    "look_back = 1\n",
    "trainX, trainY = create_dataset(train, look_back, sentiment[0:train_size])\n",
    "testX, testY = create_dataset(test, look_back, sentiment[train_size:len(scaled)])"
   ]
  },
  {
   "cell_type": "code",
   "execution_count": 126,
   "metadata": {},
   "outputs": [
    {
     "data": {
      "text/plain": [
       "array([[0.55154234],\n",
       "       [0.61304635],\n",
       "       [0.50572175],\n",
       "       [0.45555872],\n",
       "       [0.48910636],\n",
       "       [0.64230734],\n",
       "       [0.71584195],\n",
       "       [0.7265493 ],\n",
       "       [0.78246206],\n",
       "       [0.7224677 ],\n",
       "       [0.71421117],\n",
       "       [0.7639176 ],\n",
       "       [0.85868984],\n",
       "       [0.927826  ],\n",
       "       [1.        ],\n",
       "       [0.9838039 ],\n",
       "       [0.8348337 ],\n",
       "       [0.8460162 ]], dtype=float32)"
      ]
     },
     "execution_count": 126,
     "metadata": {},
     "output_type": "execute_result"
    }
   ],
   "source": [
    "test"
   ]
  },
  {
   "cell_type": "markdown",
   "metadata": {
    "_cell_guid": "d5553396-ea30-42fd-8754-b7f2da6d0e57",
    "_uuid": "86d330b8044e090cbc71316d4f33a78907742c79"
   },
   "source": [
    "#### Reshape X for model training"
   ]
  },
  {
   "cell_type": "code",
   "execution_count": 127,
   "metadata": {
    "_cell_guid": "c35247b2-058e-4f48-bf1d-93a4c1c2d6d5",
    "_uuid": "b19a891be9692af149ca50ca8472700110287adc",
    "collapsed": true
   },
   "outputs": [],
   "source": [
    "trainX = np.reshape(trainX, (trainX.shape[0], 1, trainX.shape[1]))\n",
    "testX = np.reshape(testX, (testX.shape[0], 1, testX.shape[1]))"
   ]
  },
  {
   "cell_type": "markdown",
   "metadata": {
    "_cell_guid": "670f6dc3-18cd-46c7-a0e9-f6c32c0e7cbb",
    "_uuid": "e385ad7589183e6bbedd32df0bcb457cba860ece"
   },
   "source": [
    "#### Running the LSTM model with 300 epochs"
   ]
  },
  {
   "cell_type": "code",
   "execution_count": 128,
   "metadata": {
    "_cell_guid": "bf2d6bd2-4490-4fac-bfb3-77c9727a3082",
    "_uuid": "f8398f9b7d19f8bd3da30cd855a463399019d654",
    "collapsed": true
   },
   "outputs": [],
   "source": [
    "model = Sequential()\n",
    "model.add(LSTM(100, input_shape=(trainX.shape[1], trainX.shape[2])))\n",
    "model.add(Dense(1))\n",
    "model.compile(loss='mae', optimizer='adam')\n",
    "history = model.fit(trainX, trainY, epochs=300, batch_size=100, validation_data=(testX, testY), verbose=0, shuffle=False)"
   ]
  },
  {
   "cell_type": "markdown",
   "metadata": {
    "_cell_guid": "346dc856-2beb-4409-a7dd-2f5ea4abe55c",
    "_uuid": "4748a9eabd2a3f71d3b3491a862b977e1da038b7"
   },
   "source": [
    "#### Plot line graph to show amount loss according the the epoch"
   ]
  },
  {
   "cell_type": "code",
   "execution_count": 129,
   "metadata": {
    "_cell_guid": "0b1ba0ae-d20b-4fb2-af53-28c013c13dd1",
    "_uuid": "b0d148c334d28a6728a1d1437ff79c3faed01e47"
   },
   "outputs": [
    {
     "data": {
      "image/png": "[encoded data removed]",
      "text/plain": [
       "<matplotlib.figure.Figure at 0x1c0eb6309e8>"
      ]
     },
     "metadata": {},
     "output_type": "display_data"
    }
   ],
   "source": [
    "pyplot.plot(history.history['loss'], label='train')\n",
    "pyplot.plot(history.history['val_loss'], label='test')\n",
    "pyplot.legend()\n",
    "pyplot.show()"
   ]
  },
  {
   "cell_type": "markdown",
   "metadata": {
    "_cell_guid": "e7b0f4f0-558d-4fa4-a49a-54f47d7fbe5a",
    "_uuid": "ffaee208ae1088d9c3c83a8cb433eb811209bd5a"
   },
   "source": [
    "#### Make prediction using textX and plotting line graph against testY"
   ]
  },
  {
   "cell_type": "code",
   "execution_count": 130,
   "metadata": {
    "_cell_guid": "953f11ca-a00e-44ef-ad66-889007b1faf7",
    "_uuid": "99c245ddefc779f24fa6ef077309d3fb5ad222eb"
   },
   "outputs": [
    {
     "data": {
      "image/png": "[encoded data removed]",
      "text/plain": [
       "<matplotlib.figure.Figure at 0x1c0eea5d358>"
      ]
     },
     "metadata": {},
     "output_type": "display_data"
    }
   ],
   "source": [
    "yhat = model.predict(testX)\n",
    "pyplot.plot(yhat, label='predict')\n",
    "pyplot.plot(testY, label='true')\n",
    "pyplot.legend()\n",
    "pyplot.show()"
   ]
  },
  {
   "cell_type": "markdown",
   "metadata": {
    "_cell_guid": "0efdd9bb-1367-48cf-8f25-7af211c7a34c",
    "_uuid": "099a70f2b58c7af5432dbaf88e89392a5a0ad6d3"
   },
   "source": [
    "#### Scaler Inverse Y back to normal value"
   ]
  },
  {
   "cell_type": "code",
   "execution_count": 131,
   "metadata": {
    "_cell_guid": "a4ccceee-0d5a-4e39-a75c-e856e215362e",
    "_uuid": "c97f1a6826f7286277a37a7993f72bcdbc8a0229",
    "collapsed": true
   },
   "outputs": [],
   "source": [
    "yhat_inverse = scaler.inverse_transform(yhat.reshape(-1, 1))\n",
    "testY_inverse = scaler.inverse_transform(testY.reshape(-1, 1))"
   ]
  },
  {
   "cell_type": "markdown",
   "metadata": {
    "_cell_guid": "b51c1c6c-cfeb-4683-9965-eaffb9045ddc",
    "_uuid": "2972db934026a61a6d11411443dff95dd734600b"
   },
   "source": [
    "#### RMSE"
   ]
  },
  {
   "cell_type": "code",
   "execution_count": 132,
   "metadata": {
    "_cell_guid": "3bdde533-1d5c-4d9f-8ee2-8867a7f9434f",
    "_uuid": "d4ec1bc2342f2ec215c83a817eb0e1980cadc023"
   },
   "outputs": [
    {
     "name": "stdout",
     "output_type": "stream",
     "text": [
      "Test RMSE: 1375.846\n"
     ]
    }
   ],
   "source": [
    "rmse = sqrt(mean_squared_error(testY_inverse, yhat_inverse))\n",
    "print('Test RMSE: %.3f' % rmse)"
   ]
  },
  {
   "cell_type": "markdown",
   "metadata": {
    "_cell_guid": "144efbdc-9c05-434a-a46d-2e5ca3625ce1",
    "_uuid": "3d93e1c74042684723566bc3a5bde324ffd3159b"
   },
   "source": [
    "#### Plot line graph with Y as USD"
   ]
  },
  {
   "cell_type": "code",
   "execution_count": 133,
   "metadata": {
    "_cell_guid": "912fe352-6aab-4703-ad18-79de70e0d19b",
    "_uuid": "ab4797992d846a0bb03fcf057b206bf59d49a5fa"
   },
   "outputs": [
    {
     "data": {
      "image/png": "[encoded data removed]",
      "text/plain": [
       "<matplotlib.figure.Figure at 0x1c0ee7695f8>"
      ]
     },
     "metadata": {},
     "output_type": "display_data"
    }
   ],
   "source": [
    "pyplot.plot(yhat_inverse, label='predict')\n",
    "pyplot.plot(testY_inverse, label='actual', alpha=0.5)\n",
    "pyplot.legend()\n",
    "pyplot.show()"
   ]
  },
  {
   "cell_type": "markdown",
   "metadata": {
    "_cell_guid": "e7fc0104-7422-42f1-a03a-28311e5c8294",
    "_uuid": "d48aa3332b570c27f701e4879139d2e92c670b45"
   },
   "source": [
    "#### Convert X to dates"
   ]
  },
  {
   "cell_type": "code",
   "execution_count": 134,
   "metadata": {
    "_cell_guid": "15223447-e632-4c25-8c3c-464f7bd70945",
    "_uuid": "b5662c373113d24394cdb8927fa7f078419bb2eb",
    "collapsed": true
   },
   "outputs": [],
   "source": [
    "predictDates = data.tail(len(testX)).stamp"
   ]
  },
  {
   "cell_type": "markdown",
   "metadata": {
    "_cell_guid": "8123d3a6-2f8f-4f15-95d4-06251039863f",
    "_uuid": "bef479f621dba50a5405511f29e55cac8e8897f9"
   },
   "source": [
    "#### Reshape testY and yhat for plotly"
   ]
  },
  {
   "cell_type": "code",
   "execution_count": 135,
   "metadata": {
    "_cell_guid": "faf4111f-0fe1-414b-89d8-3f12d029a992",
    "_uuid": "be096523ce37675beac3b1c10bc8fa80f00a4fe1",
    "collapsed": true
   },
   "outputs": [],
   "source": [
    "testY_reshape = testY_inverse.reshape(len(testY_inverse))\n",
    "yhat_reshape = yhat_inverse.reshape(len(yhat_inverse))"
   ]
  },
  {
   "cell_type": "markdown",
   "metadata": {
    "_cell_guid": "a72a41ea-8c62-4f2b-9c28-a40b3e76b3b9",
    "_uuid": "681ffe9db364a1271cabcbd215365349242dd92f"
   },
   "source": [
    "#### Plot predicted and actual line graph with X=dates, Y=USD"
   ]
  },
  {
   "cell_type": "code",
   "execution_count": 136,
   "metadata": {
    "_cell_guid": "be934be3-bc30-4bc0-bbed-4a4932f264cd",
    "_uuid": "2bafae13424578cf12b75d4532c849d6b305963b"
   },
   "outputs": [
    {
     "data": {
      "application/vnd.plotly.v1+json": {
       "data": [
        {
         "name": "Predict Price",
         "type": "scatter",
         "x": [
          "2018-01-19",
          "2018-01-18",
          "2018-01-17",
          "2018-01-16",
          "2018-01-15",
          "2018-01-14",
          "2018-01-13",
          "2018-01-12",
          "2018-01-11",
          "2018-01-10",
          "2018-01-09",
          "2018-01-08",
          "2018-01-07",
          "2018-01-06",
          "2018-01-05",
          "2018-01-04",
          "2018-01-03"
         ],
         "y": [
          11432.6435546875,
          11909.0654296875,
          11081.818359375,
          10701.837890625,
          10955.4814453125,
          12137.912109375,
          12719.125,
          12804.4736328125,
          13253.0693359375,
          12771.9169921875,
          12706.140625,
          13103.7451171875,
          13872.3935546875,
          14441.6123046875,
          15043.2353515625,
          14907.583984375,
          13677.625
         ]
        },
        {
         "name": "Actual Price",
         "type": "scatter",
         "x": [
          "2018-01-19",
          "2018-01-18",
          "2018-01-17",
          "2018-01-16",
          "2018-01-15",
          "2018-01-14",
          "2018-01-13",
          "2018-01-12",
          "2018-01-11",
          "2018-01-10",
          "2018-01-09",
          "2018-01-08",
          "2018-01-07",
          "2018-01-06",
          "2018-01-05",
          "2018-01-04",
          "2018-01-03"
         ],
         "y": [
          12550,
          11398.2998046875,
          10860,
          11220,
          12864,
          13653.099609375,
          13768.0009765625,
          14368,
          13724.201171875,
          13635.599609375,
          14169,
          15186,
          15927.900390625,
          16702.3984375,
          16528.599609375,
          14930,
          15050
         ]
        }
       ],
       "layout": {}
      },
      "text/html": [
       "<div id=\"a01ec046-91a8-4067-8422-4c9c365e820c\" style=\"height: 525px; width: 100%;\" class=\"plotly-graph-div\"></div><script type=\"text/javascript\">require([\"plotly\"], function(Plotly) { window.PLOTLYENV=window.PLOTLYENV || {};window.PLOTLYENV.BASE_URL=\"https://plot.ly\";Plotly.newPlot(\"a01ec046-91a8-4067-8422-4c9c365e820c\", [{\"type\": \"scatter\", \"x\": [\"2018-01-19\", \"2018-01-18\", \"2018-01-17\", \"2018-01-16\", \"2018-01-15\", \"2018-01-14\", \"2018-01-13\", \"2018-01-12\", \"2018-01-11\", \"2018-01-10\", \"2018-01-09\", \"2018-01-08\", \"2018-01-07\", \"2018-01-06\", \"2018-01-05\", \"2018-01-04\", \"2018-01-03\"], \"y\": [11432.6435546875, 11909.0654296875, 11081.818359375, 10701.837890625, 10955.4814453125, 12137.912109375, 12719.125, 12804.4736328125, 13253.0693359375, 12771.9169921875, 12706.140625, 13103.7451171875, 13872.3935546875, 14441.6123046875, 15043.2353515625, 14907.583984375, 13677.625], \"name\": \"Predict Price\"}, {\"type\": \"scatter\", \"x\": [\"2018-01-19\", \"2018-01-18\", \"2018-01-17\", \"2018-01-16\", \"2018-01-15\", \"2018-01-14\", \"2018-01-13\", \"2018-01-12\", \"2018-01-11\", \"2018-01-10\", \"2018-01-09\", \"2018-01-08\", \"2018-01-07\", \"2018-01-06\", \"2018-01-05\", \"2018-01-04\", \"2018-01-03\"], \"y\": [12550.0, 11398.2998046875, 10860.0, 11220.0, 12864.0, 13653.099609375, 13768.0009765625, 14368.0, 13724.201171875, 13635.599609375, 14169.0, 15186.0, 15927.900390625, 16702.3984375, 16528.599609375, 14930.0, 15050.0], \"name\": \"Actual Price\"}], {}, {\"showLink\": true, \"linkText\": \"Export to plot.ly\"})});</script>"
      ],
      "text/vnd.plotly.v1+html": [
       "<div id=\"a01ec046-91a8-4067-8422-4c9c365e820c\" style=\"height: 525px; width: 100%;\" class=\"plotly-graph-div\"></div><script type=\"text/javascript\">require([\"plotly\"], function(Plotly) { window.PLOTLYENV=window.PLOTLYENV || {};window.PLOTLYENV.BASE_URL=\"https://plot.ly\";Plotly.newPlot(\"a01ec046-91a8-4067-8422-4c9c365e820c\", [{\"type\": \"scatter\", \"x\": [\"2018-01-19\", \"2018-01-18\", \"2018-01-17\", \"2018-01-16\", \"2018-01-15\", \"2018-01-14\", \"2018-01-13\", \"2018-01-12\", \"2018-01-11\", \"2018-01-10\", \"2018-01-09\", \"2018-01-08\", \"2018-01-07\", \"2018-01-06\", \"2018-01-05\", \"2018-01-04\", \"2018-01-03\"], \"y\": [11432.6435546875, 11909.0654296875, 11081.818359375, 10701.837890625, 10955.4814453125, 12137.912109375, 12719.125, 12804.4736328125, 13253.0693359375, 12771.9169921875, 12706.140625, 13103.7451171875, 13872.3935546875, 14441.6123046875, 15043.2353515625, 14907.583984375, 13677.625], \"name\": \"Predict Price\"}, {\"type\": \"scatter\", \"x\": [\"2018-01-19\", \"2018-01-18\", \"2018-01-17\", \"2018-01-16\", \"2018-01-15\", \"2018-01-14\", \"2018-01-13\", \"2018-01-12\", \"2018-01-11\", \"2018-01-10\", \"2018-01-09\", \"2018-01-08\", \"2018-01-07\", \"2018-01-06\", \"2018-01-05\", \"2018-01-04\", \"2018-01-03\"], \"y\": [12550.0, 11398.2998046875, 10860.0, 11220.0, 12864.0, 13653.099609375, 13768.0009765625, 14368.0, 13724.201171875, 13635.599609375, 14169.0, 15186.0, 15927.900390625, 16702.3984375, 16528.599609375, 14930.0, 15050.0], \"name\": \"Actual Price\"}], {}, {\"showLink\": true, \"linkText\": \"Export to plot.ly\"})});</script>"
      ]
     },
     "metadata": {},
     "output_type": "display_data"
    }
   ],
   "source": [
    "actual_chart = go.Scatter(x=predictDates, y=testY_reshape, name= 'Actual Price')\n",
    "predict_chart = go.Scatter(x=predictDates, y=yhat_reshape, name= 'Predict Price')\n",
    "py.iplot([predict_chart, actual_chart])"
   ]
  },
  {
   "cell_type": "markdown",
   "metadata": {
    "_cell_guid": "9ba600c2-a75c-4c0f-b429-e58915c9dd08",
    "_uuid": "cfb796ce963c9e27eb9c21528cbab2334bf7f16b"
   },
   "source": [
    "### Using additional features for model training"
   ]
  },
  {
   "cell_type": "markdown",
   "metadata": {
    "_cell_guid": "2434fb95-6a2a-42a3-a05c-61dedae9bbf6",
    "_uuid": "9d61365cbfe5088e84c040399ca899c4374c7b2b"
   },
   "source": [
    "#### Find corrleration in features to `Weighted Price`"
   ]
  },
  {
   "cell_type": "code",
   "execution_count": 137,
   "metadata": {
    "_cell_guid": "b68facb3-0dd1-4357-a677-b2f8f0ade7e3",
    "_uuid": "580c582495eec72a74e47a19def10a873a205de8"
   },
   "outputs": [
    {
     "data": {
      "text/html": [
       "<div>\n",
       "<style>\n",
       "    .dataframe thead tr:only-child th {\n",
       "        text-align: right;\n",
       "    }\n",
       "\n",
       "    .dataframe thead th {\n",
       "        text-align: left;\n",
       "    }\n",
       "\n",
       "    .dataframe tbody tr th {\n",
       "        vertical-align: top;\n",
       "    }\n",
       "</style>\n",
       "<table border=\"1\" class=\"dataframe\">\n",
       "  <thead>\n",
       "    <tr style=\"text-align: right;\">\n",
       "      <th></th>\n",
       "      <th>price</th>\n",
       "      <th>sentiment</th>\n",
       "    </tr>\n",
       "  </thead>\n",
       "  <tbody>\n",
       "    <tr>\n",
       "      <th>price</th>\n",
       "      <td>1.000000</td>\n",
       "      <td>0.015869</td>\n",
       "    </tr>\n",
       "    <tr>\n",
       "      <th>sentiment</th>\n",
       "      <td>0.015869</td>\n",
       "      <td>1.000000</td>\n",
       "    </tr>\n",
       "  </tbody>\n",
       "</table>\n",
       "</div>"
      ],
      "text/plain": [
       "              price  sentiment\n",
       "price      1.000000   0.015869\n",
       "sentiment  0.015869   1.000000"
      ]
     },
     "execution_count": 137,
     "metadata": {},
     "output_type": "execute_result"
    },
    {
     "data": {
      "image/png": "[encoded data removed]",
      "text/plain": [
       "<matplotlib.figure.Figure at 0x1c0eb6308d0>"
      ]
     },
     "metadata": {},
     "output_type": "display_data"
    }
   ],
   "source": [
    "sns.heatmap(data.corr(), annot=True, cmap='RdYlGn', linewidths=0.1, vmin=0)\n",
    "data.corr()"
   ]
  },
  {
   "cell_type": "markdown",
   "metadata": {
    "_cell_guid": "270379bd-8266-4380-94a7-23d822e7551e",
    "_uuid": "aef9bf9d2cfcc6865e6e273b97fefd0cd97b2d76"
   },
   "source": [
    "Observation: `Volume` is corrlerated to `Weighted Price`. \n",
    "`Open`, `High`, `Low`, `Close` are directly related to `Weighted Price`"
   ]
  },
  {
   "cell_type": "markdown",
   "metadata": {
    "_cell_guid": "c9e82c53-2b11-4292-ab75-f4ad2ac9d7b3",
    "_uuid": "1c570a4d8dd3cff00c33917b5b6b647dd3fe424f"
   },
   "source": [
    "#### Function to convert series to supervised learning"
   ]
  },
  {
   "cell_type": "code",
   "execution_count": 138,
   "metadata": {
    "_cell_guid": "eb787912-5c49-4eff-9e1a-710c1ada2417",
    "_uuid": "3975d18827952f89ffca2444704bbe91026aaef8",
    "collapsed": true
   },
   "outputs": [],
   "source": [
    "def series_to_supervised(data, n_in=1, n_out=1, dropnan=True):\n",
    "    n_vars = 1 if type(data) is list else data.shape[1]\n",
    "    df = pd.DataFrame(data)\n",
    "    cols, names = list(), list()\n",
    "    # input sequence (t-n, ... t-1)\n",
    "    for i in range(n_in, 0, -1):\n",
    "        cols.append(df.shift(i))\n",
    "        names += [('var%d(t-%d)' % (j+1, i)) for j in range(n_vars)]\n",
    "    # forecast sequence (t, t+1, ... t+n)\n",
    "    for i in range(0, n_out):\n",
    "        cols.append(df.shift(-i))\n",
    "        if i == 0:\n",
    "            names += [('var%d(t)' % (j+1)) for j in range(n_vars)]\n",
    "        else:\n",
    "            names += [('var%d(t+%d)' % (j+1, i)) for j in range(n_vars)]\n",
    "    # put it all together\n",
    "    agg = pd.concat(cols, axis=1)\n",
    "    agg.columns = names\n",
    "    # drop rows with NaN values\n",
    "    if dropnan:\n",
    "        agg.dropna(inplace=True)\n",
    "    return agg"
   ]
  },
  {
   "cell_type": "markdown",
   "metadata": {
    "_cell_guid": "41816928-fdea-4a78-a86f-86915dada48e",
    "_uuid": "d84865f796a5eb22b562f30ad24cce8e6ab14184"
   },
   "source": [
    "#### Get all data values"
   ]
  },
  {
   "cell_type": "code",
   "execution_count": 139,
   "metadata": {
    "_cell_guid": "0c080f0f-6d65-4cb8-949f-9bfca949bfc0",
    "_uuid": "c6fe0e5b2edb63afacf6824095bf8cc1f10f59bd",
    "collapsed": true
   },
   "outputs": [],
   "source": [
    "values = data[['price']].values\n",
    "values = values.astype('float32')"
   ]
  },
  {
   "cell_type": "markdown",
   "metadata": {
    "_cell_guid": "17c5c659-84fb-441f-92bf-b752fd6a264b",
    "_uuid": "440faceb02d9350f2a17e368daf669c32eb076e5"
   },
   "source": [
    "#### Normalize features to range from 0 to 1"
   ]
  },
  {
   "cell_type": "code",
   "execution_count": 140,
   "metadata": {
    "_cell_guid": "8253e5dc-6091-4fba-b10f-064a6f93c553",
    "_uuid": "50f0c9f96d9b785cf0df20499980b85dd915a327",
    "collapsed": true
   },
   "outputs": [],
   "source": [
    "scaler = MinMaxScaler(feature_range=(0, 1))\n",
    "scaled = scaler.fit_transform(values)"
   ]
  },
  {
   "cell_type": "markdown",
   "metadata": {
    "_cell_guid": "d2f9600c-056e-4ff1-8c1f-9a2ec43352e2",
    "_uuid": "88bdb07cd9cc695c410c6739a0880d8efb8d8720"
   },
   "source": [
    "#### Frame as supervised learning"
   ]
  },
  {
   "cell_type": "code",
   "execution_count": 141,
   "metadata": {
    "_cell_guid": "e12b64fd-1230-486a-977a-e1d6c3fbe9dc",
    "_uuid": "a885b48a939d66b2a24bea7b5a56d3a4e4645628"
   },
   "outputs": [
    {
     "data": {
      "text/html": [
       "<div>\n",
       "<style>\n",
       "    .dataframe thead tr:only-child th {\n",
       "        text-align: right;\n",
       "    }\n",
       "\n",
       "    .dataframe thead th {\n",
       "        text-align: left;\n",
       "    }\n",
       "\n",
       "    .dataframe tbody tr th {\n",
       "        vertical-align: top;\n",
       "    }\n",
       "</style>\n",
       "<table border=\"1\" class=\"dataframe\">\n",
       "  <thead>\n",
       "    <tr style=\"text-align: right;\">\n",
       "      <th></th>\n",
       "      <th>var1(t-1)</th>\n",
       "      <th>var1(t)</th>\n",
       "    </tr>\n",
       "  </thead>\n",
       "  <tbody>\n",
       "    <tr>\n",
       "      <th>1</th>\n",
       "      <td>0.502730</td>\n",
       "      <td>0.496095</td>\n",
       "    </tr>\n",
       "    <tr>\n",
       "      <th>2</th>\n",
       "      <td>0.496095</td>\n",
       "      <td>0.476051</td>\n",
       "    </tr>\n",
       "    <tr>\n",
       "      <th>3</th>\n",
       "      <td>0.476051</td>\n",
       "      <td>0.423670</td>\n",
       "    </tr>\n",
       "    <tr>\n",
       "      <th>4</th>\n",
       "      <td>0.423670</td>\n",
       "      <td>0.445028</td>\n",
       "    </tr>\n",
       "    <tr>\n",
       "      <th>5</th>\n",
       "      <td>0.445028</td>\n",
       "      <td>0.403299</td>\n",
       "    </tr>\n",
       "  </tbody>\n",
       "</table>\n",
       "</div>"
      ],
      "text/plain": [
       "   var1(t-1)   var1(t)\n",
       "1   0.502730  0.496095\n",
       "2   0.496095  0.476051\n",
       "3   0.476051  0.423670\n",
       "4   0.423670  0.445028\n",
       "5   0.445028  0.403299"
      ]
     },
     "execution_count": 141,
     "metadata": {},
     "output_type": "execute_result"
    }
   ],
   "source": [
    "reframed = series_to_supervised(scaled, 1, 1)\n",
    "reframed.head()"
   ]
  },
  {
   "cell_type": "markdown",
   "metadata": {
    "_cell_guid": "dabfece4-6507-4ff4-a4d9-73fc06923fae",
    "_uuid": "b8b5249b6487130c5955b672c101789054c3de48"
   },
   "source": [
    "#### Drop unncessary columns "
   ]
  },
  {
   "cell_type": "code",
   "execution_count": null,
   "metadata": {
    "_cell_guid": "271b5d20-4088-4afe-8667-9d4da86abff6",
    "_uuid": "3800f9bc16aa5dd687e8443467a4ee8f838754e5",
    "collapsed": true
   },
   "outputs": [],
   "source": [
    "#reframed.drop(reframed.columns[[1,3]], axis=1, inplace=True)\n",
    "#print(reframed.head())"
   ]
  },
  {
   "cell_type": "markdown",
   "metadata": {
    "_cell_guid": "c805b901-cea2-4bda-a8ed-1d70e885a422",
    "_uuid": "1972851254c74d6f468cefe14af0814a146927f4"
   },
   "source": [
    "#### Split data to 70% training, 30% testing"
   ]
  },
  {
   "cell_type": "code",
   "execution_count": 142,
   "metadata": {
    "_cell_guid": "25395950-10a3-4f95-95cd-09e3723d3045",
    "_uuid": "ad6b4cd4274ac0f916e6a604e6ab42b318f43827"
   },
   "outputs": [
    {
     "name": "stdout",
     "output_type": "stream",
     "text": [
      "(41, 1, 1) (41,) (18, 1, 1) (18,)\n"
     ]
    }
   ],
   "source": [
    "values = reframed.values\n",
    "n_train_hours = int(len(values) * 0.7)\n",
    "train = values[:n_train_hours, :]\n",
    "test = values[n_train_hours:, :]\n",
    "# split into input and outputs\n",
    "train_X, train_y = train[:, :-1], train[:, -1]\n",
    "test_X, test_y = test[:, :-1], test[:, -1]\n",
    "# reshape input to be 3D [samples, timesteps, features]\n",
    "train_X = train_X.reshape((train_X.shape[0], 1, train_X.shape[1]))\n",
    "test_X = test_X.reshape((test_X.shape[0], 1, test_X.shape[1]))\n",
    "print(train_X.shape, train_y.shape, test_X.shape, test_y.shape)"
   ]
  },
  {
   "cell_type": "markdown",
   "metadata": {
    "_cell_guid": "c6e27b43-76ea-454e-99b6-ef7927e74a9c",
    "_uuid": "a9522ef4744d6bc7cbf71bb5b041fbd908c3aac9"
   },
   "source": [
    "#### Training the LSTM model with 300 epochs"
   ]
  },
  {
   "cell_type": "code",
   "execution_count": 143,
   "metadata": {
    "_cell_guid": "7efdad54-d362-4492-892d-c454eb098712",
    "_uuid": "702f2dfd9e07355620bcad02de830052471c431f",
    "collapsed": true
   },
   "outputs": [],
   "source": [
    "multi_model = Sequential()\n",
    "multi_model.add(LSTM(100, input_shape=(train_X.shape[1], train_X.shape[2])))\n",
    "multi_model.add(Dense(1))\n",
    "multi_model.compile(loss='mae', optimizer='adam')\n",
    "multi_history = multi_model.fit(train_X, train_y, epochs=300, batch_size=100, validation_data=(test_X, test_y), verbose=0, shuffle=False)"
   ]
  },
  {
   "cell_type": "markdown",
   "metadata": {
    "_cell_guid": "398acc81-7905-4543-a86f-d742533223e8",
    "_uuid": "cedb18926575c3eb4f45bb28d5ed25330cc90dbb"
   },
   "source": [
    "#### Plot line graph to show amount loss according the the epoch"
   ]
  },
  {
   "cell_type": "code",
   "execution_count": 144,
   "metadata": {
    "_cell_guid": "e6d16091-921a-41ae-99df-f749433ec078",
    "_uuid": "a4ce67e2d990ed36b02afbf0a9f1d82608a524ec",
    "scrolled": true
   },
   "outputs": [
    {
     "data": {
      "image/png": "[encoded data removed]",
      "text/plain": [
       "<matplotlib.figure.Figure at 0x1c0ee63b898>"
      ]
     },
     "metadata": {},
     "output_type": "display_data"
    }
   ],
   "source": [
    "pyplot.plot(multi_history.history['loss'], label='multi_train')\n",
    "pyplot.plot(multi_history.history['val_loss'], label='multi_test')\n",
    "pyplot.legend()\n",
    "pyplot.show()"
   ]
  },
  {
   "cell_type": "markdown",
   "metadata": {
    "_cell_guid": "d57bcae5-faf4-4627-aed6-196c79b45501",
    "_uuid": "539968ae29f8f3e04e9ab9c13475328195e4b67c"
   },
   "source": [
    "#### Make prediction using textX and plotting line graph against testY"
   ]
  },
  {
   "cell_type": "code",
   "execution_count": 145,
   "metadata": {
    "_cell_guid": "3675ba21-d893-4810-b750-be56f174d3b1",
    "_uuid": "935e2453284414dc00d48c995374838cd45d3878"
   },
   "outputs": [
    {
     "data": {
      "image/png": "[encoded data removed]",
      "text/plain": [
       "<matplotlib.figure.Figure at 0x1c0ee45c908>"
      ]
     },
     "metadata": {},
     "output_type": "display_data"
    }
   ],
   "source": [
    "yhat = multi_model.predict(test_X)\n",
    "pyplot.plot(yhat, label='predict')\n",
    "pyplot.plot(test_y, label='true')\n",
    "pyplot.legend()\n",
    "pyplot.show()"
   ]
  },
  {
   "cell_type": "markdown",
   "metadata": {
    "_cell_guid": "2693f259-62e6-4618-ba35-e8c61796ca85",
    "_uuid": "dae0a33db1cc2b8895571b5daf28079a7bfc1d5d"
   },
   "source": [
    "#### Scaler Inverse Y back to normal value"
   ]
  },
  {
   "cell_type": "code",
   "execution_count": 146,
   "metadata": {
    "_cell_guid": "95d5c947-bae5-463c-90d6-aa5ecbdc6ed6",
    "_uuid": "854d9c93dd568a111cf9a14335dbbf54d279be31",
    "collapsed": true
   },
   "outputs": [],
   "source": [
    "test_X = test_X.reshape((test_X.shape[0], test_X.shape[1]))\n",
    "# invert scaling for forecast\n",
    "inv_yhat = concatenate((yhat, test_X[:, 1:]), axis=1)\n",
    "inv_yhat = scaler.inverse_transform(inv_yhat)\n",
    "inv_yhat = inv_yhat[:,0]\n",
    "# invert scaling for actual\n",
    "test_y = test_y.reshape((len(test_y), 1))\n",
    "inv_y = concatenate((test_y, test_X[:, 1:]), axis=1)\n",
    "inv_y = scaler.inverse_transform(inv_y)\n",
    "inv_y = inv_y[:,0]"
   ]
  },
  {
   "cell_type": "markdown",
   "metadata": {
    "_cell_guid": "a78efc96-a474-4e7a-9710-1acc5ec5f3af",
    "_uuid": "db764d6976a5ba5efb33547b7dc48e9fdc9698ab"
   },
   "source": [
    "#### RMSE"
   ]
  },
  {
   "cell_type": "code",
   "execution_count": 147,
   "metadata": {
    "_cell_guid": "5aed0b53-1b40-42fe-8472-bb0998ccf1b7",
    "_uuid": "148769aa228dc1501e2c49584e62576076bea186"
   },
   "outputs": [
    {
     "name": "stdout",
     "output_type": "stream",
     "text": [
      "Test RMSE: 1363.326\n"
     ]
    }
   ],
   "source": [
    "rmse = sqrt(mean_squared_error(inv_y, inv_yhat))\n",
    "print('Test RMSE: %.3f' % rmse)"
   ]
  },
  {
   "cell_type": "markdown",
   "metadata": {
    "_cell_guid": "6ae77413-adb0-4957-8c40-38a624341cb1",
    "_uuid": "c5164ca1c50b217786cc5be52e7354121265d302"
   },
   "source": [
    "#### Plot line graph with actual price, predicted price with feature `Weighted Price`, predicted price with features `Volume` and `Weighted Price`"
   ]
  },
  {
   "cell_type": "code",
   "execution_count": 148,
   "metadata": {
    "_cell_guid": "2fb1ffb0-439c-498f-8a20-ab2446443259",
    "_uuid": "941a79e76ab478a4b24cf14a584b35808a7c06b9"
   },
   "outputs": [
    {
     "data": {
      "application/vnd.plotly.v1+json": {
       "data": [
        {
         "name": "Predict Price",
         "type": "scatter",
         "x": [
          "2018-01-19",
          "2018-01-18",
          "2018-01-17",
          "2018-01-16",
          "2018-01-15",
          "2018-01-14",
          "2018-01-13",
          "2018-01-12",
          "2018-01-11",
          "2018-01-10",
          "2018-01-09",
          "2018-01-08",
          "2018-01-07",
          "2018-01-06",
          "2018-01-05",
          "2018-01-04",
          "2018-01-03"
         ],
         "y": [
          11432.6435546875,
          11909.0654296875,
          11081.818359375,
          10701.837890625,
          10955.4814453125,
          12137.912109375,
          12719.125,
          12804.4736328125,
          13253.0693359375,
          12771.9169921875,
          12706.140625,
          13103.7451171875,
          13872.3935546875,
          14441.6123046875,
          15043.2353515625,
          14907.583984375,
          13677.625
         ]
        },
        {
         "name": "Multi Predict Price",
         "type": "scatter",
         "x": [
          "2018-01-19",
          "2018-01-18",
          "2018-01-17",
          "2018-01-16",
          "2018-01-15",
          "2018-01-14",
          "2018-01-13",
          "2018-01-12",
          "2018-01-11",
          "2018-01-10",
          "2018-01-09",
          "2018-01-08",
          "2018-01-07",
          "2018-01-06",
          "2018-01-05",
          "2018-01-04",
          "2018-01-03"
         ],
         "y": [
          11207.5185546875,
          11425.0205078125,
          11897.8486328125,
          11076.7421875,
          10699.4287109375,
          10951.3017578125,
          12124.9130859375,
          12701.41796875,
          12786.0517578125,
          13230.806640625,
          12753.76953125,
          12688.54296875,
          13082.779296875,
          13844.556640625,
          14408.365234375,
          15003.9560546875,
          14869.6953125,
          13651.5751953125
         ]
        },
        {
         "name": "Actual Price",
         "type": "scatter",
         "x": [
          "2018-01-19",
          "2018-01-18",
          "2018-01-17",
          "2018-01-16",
          "2018-01-15",
          "2018-01-14",
          "2018-01-13",
          "2018-01-12",
          "2018-01-11",
          "2018-01-10",
          "2018-01-09",
          "2018-01-08",
          "2018-01-07",
          "2018-01-06",
          "2018-01-05",
          "2018-01-04",
          "2018-01-03"
         ],
         "y": [
          11890.0009765625,
          12550,
          11398.2998046875,
          10860,
          11220,
          12864,
          13653.099609375,
          13768.0009765625,
          14368,
          13724.201171875,
          13635.599609375,
          14169,
          15186,
          15927.900390625,
          16702.3984375,
          16528.599609375,
          14930,
          15050
         ]
        }
       ],
       "layout": {}
      },
      "text/html": [
       "<div id=\"71810022-5f6e-4208-a6de-8de92e404e3e\" style=\"height: 525px; width: 100%;\" class=\"plotly-graph-div\"></div><script type=\"text/javascript\">require([\"plotly\"], function(Plotly) { window.PLOTLYENV=window.PLOTLYENV || {};window.PLOTLYENV.BASE_URL=\"https://plot.ly\";Plotly.newPlot(\"71810022-5f6e-4208-a6de-8de92e404e3e\", [{\"type\": \"scatter\", \"x\": [\"2018-01-19\", \"2018-01-18\", \"2018-01-17\", \"2018-01-16\", \"2018-01-15\", \"2018-01-14\", \"2018-01-13\", \"2018-01-12\", \"2018-01-11\", \"2018-01-10\", \"2018-01-09\", \"2018-01-08\", \"2018-01-07\", \"2018-01-06\", \"2018-01-05\", \"2018-01-04\", \"2018-01-03\"], \"y\": [11432.6435546875, 11909.0654296875, 11081.818359375, 10701.837890625, 10955.4814453125, 12137.912109375, 12719.125, 12804.4736328125, 13253.0693359375, 12771.9169921875, 12706.140625, 13103.7451171875, 13872.3935546875, 14441.6123046875, 15043.2353515625, 14907.583984375, 13677.625], \"name\": \"Predict Price\"}, {\"type\": \"scatter\", \"x\": [\"2018-01-19\", \"2018-01-18\", \"2018-01-17\", \"2018-01-16\", \"2018-01-15\", \"2018-01-14\", \"2018-01-13\", \"2018-01-12\", \"2018-01-11\", \"2018-01-10\", \"2018-01-09\", \"2018-01-08\", \"2018-01-07\", \"2018-01-06\", \"2018-01-05\", \"2018-01-04\", \"2018-01-03\"], \"y\": [11207.5185546875, 11425.0205078125, 11897.8486328125, 11076.7421875, 10699.4287109375, 10951.3017578125, 12124.9130859375, 12701.41796875, 12786.0517578125, 13230.806640625, 12753.76953125, 12688.54296875, 13082.779296875, 13844.556640625, 14408.365234375, 15003.9560546875, 14869.6953125, 13651.5751953125], \"name\": \"Multi Predict Price\"}, {\"type\": \"scatter\", \"x\": [\"2018-01-19\", \"2018-01-18\", \"2018-01-17\", \"2018-01-16\", \"2018-01-15\", \"2018-01-14\", \"2018-01-13\", \"2018-01-12\", \"2018-01-11\", \"2018-01-10\", \"2018-01-09\", \"2018-01-08\", \"2018-01-07\", \"2018-01-06\", \"2018-01-05\", \"2018-01-04\", \"2018-01-03\"], \"y\": [11890.0009765625, 12550.0, 11398.2998046875, 10860.0, 11220.0, 12864.0, 13653.099609375, 13768.0009765625, 14368.0, 13724.201171875, 13635.599609375, 14169.0, 15186.0, 15927.900390625, 16702.3984375, 16528.599609375, 14930.0, 15050.0], \"name\": \"Actual Price\"}], {}, {\"showLink\": true, \"linkText\": \"Export to plot.ly\"})});</script>"
      ],
      "text/vnd.plotly.v1+html": [
       "<div id=\"71810022-5f6e-4208-a6de-8de92e404e3e\" style=\"height: 525px; width: 100%;\" class=\"plotly-graph-div\"></div><script type=\"text/javascript\">require([\"plotly\"], function(Plotly) { window.PLOTLYENV=window.PLOTLYENV || {};window.PLOTLYENV.BASE_URL=\"https://plot.ly\";Plotly.newPlot(\"71810022-5f6e-4208-a6de-8de92e404e3e\", [{\"type\": \"scatter\", \"x\": [\"2018-01-19\", \"2018-01-18\", \"2018-01-17\", \"2018-01-16\", \"2018-01-15\", \"2018-01-14\", \"2018-01-13\", \"2018-01-12\", \"2018-01-11\", \"2018-01-10\", \"2018-01-09\", \"2018-01-08\", \"2018-01-07\", \"2018-01-06\", \"2018-01-05\", \"2018-01-04\", \"2018-01-03\"], \"y\": [11432.6435546875, 11909.0654296875, 11081.818359375, 10701.837890625, 10955.4814453125, 12137.912109375, 12719.125, 12804.4736328125, 13253.0693359375, 12771.9169921875, 12706.140625, 13103.7451171875, 13872.3935546875, 14441.6123046875, 15043.2353515625, 14907.583984375, 13677.625], \"name\": \"Predict Price\"}, {\"type\": \"scatter\", \"x\": [\"2018-01-19\", \"2018-01-18\", \"2018-01-17\", \"2018-01-16\", \"2018-01-15\", \"2018-01-14\", \"2018-01-13\", \"2018-01-12\", \"2018-01-11\", \"2018-01-10\", \"2018-01-09\", \"2018-01-08\", \"2018-01-07\", \"2018-01-06\", \"2018-01-05\", \"2018-01-04\", \"2018-01-03\"], \"y\": [11207.5185546875, 11425.0205078125, 11897.8486328125, 11076.7421875, 10699.4287109375, 10951.3017578125, 12124.9130859375, 12701.41796875, 12786.0517578125, 13230.806640625, 12753.76953125, 12688.54296875, 13082.779296875, 13844.556640625, 14408.365234375, 15003.9560546875, 14869.6953125, 13651.5751953125], \"name\": \"Multi Predict Price\"}, {\"type\": \"scatter\", \"x\": [\"2018-01-19\", \"2018-01-18\", \"2018-01-17\", \"2018-01-16\", \"2018-01-15\", \"2018-01-14\", \"2018-01-13\", \"2018-01-12\", \"2018-01-11\", \"2018-01-10\", \"2018-01-09\", \"2018-01-08\", \"2018-01-07\", \"2018-01-06\", \"2018-01-05\", \"2018-01-04\", \"2018-01-03\"], \"y\": [11890.0009765625, 12550.0, 11398.2998046875, 10860.0, 11220.0, 12864.0, 13653.099609375, 13768.0009765625, 14368.0, 13724.201171875, 13635.599609375, 14169.0, 15186.0, 15927.900390625, 16702.3984375, 16528.599609375, 14930.0, 15050.0], \"name\": \"Actual Price\"}], {}, {\"showLink\": true, \"linkText\": \"Export to plot.ly\"})});</script>"
      ]
     },
     "metadata": {},
     "output_type": "display_data"
    }
   ],
   "source": [
    "actual_chart = go.Scatter(x=predictDates, y=inv_y, name= 'Actual Price')\n",
    "multi_predict_chart = go.Scatter(x=predictDates, y=inv_yhat, name= 'Multi Predict Price')\n",
    "predict_chart = go.Scatter(x=predictDates, y=yhat_reshape, name= 'Predict Price')\n",
    "py.iplot([predict_chart, multi_predict_chart, actual_chart])"
   ]
  },
  {
   "cell_type": "markdown",
   "metadata": {
    "_cell_guid": "4f084906-ab05-4521-828f-0065071da284",
    "_uuid": "b16bb454b6fb5b223364d5c37b6d525350262ee9"
   },
   "source": [
    "- LSTM with single feature of `Weighted Price` have RMSE of 159.194\n",
    "- LSTM with features of `Volume(BTC)`, `Volume(Currency)` and `Weighted Price` have RMSE of 96.184\n",
    "- LSTM with multi features shows more accurate results as show in line chart above"
   ]
  },
  {
   "cell_type": "code",
   "execution_count": null,
   "metadata": {
    "_cell_guid": "2ad528d7-09e1-475f-a15b-c13c4afee39d",
    "_uuid": "1053194c8ce05328bb7a54a176adb9c538724801",
    "collapsed": true
   },
   "outputs": [],
   "source": []
  }
 ],
 "metadata": {
  "kernelspec": {
   "display_name": "Python 3",
   "language": "python",
   "name": "python3"
  },
  "language_info": {
   "codemirror_mode": {
    "name": "ipython",
    "version": 3
   },
   "file_extension": ".py",
   "mimetype": "text/x-python",
   "name": "python",
   "nbconvert_exporter": "python",
   "pygments_lexer": "ipython3",
   "version": "3.6.3"
  }
 },
 "nbformat": 4,
 "nbformat_minor": 1
}
